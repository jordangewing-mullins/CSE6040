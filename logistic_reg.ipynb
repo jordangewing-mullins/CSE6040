{
  "cells": [
    {
      "cell_type": "markdown",
      "metadata": {
        "deletable": false,
        "editable": false,
        "nbgrader": {
          "grade": false,
          "grade_id": "cell-9b869117fb19fa7c",
          "locked": true,
          "schema_version": 1,
          "solution": false
        },
        "id": "V7nbALDOaTX7"
      },
      "source": [
        "# Logistic regression\n",
        "\n",
        "Beyond regression, another important data analysis task is _classification_, in which you are given a set of labeled data points and you wish to learn a model of the labels. The canonical example of a classification algorithm is _logistic regression_, the topic of this notebook.\n",
        "\n",
        "> Although it's called \"regression\" it is really a model for classification.\n",
        "\n",
        "Here, you'll consider _binary classification_. Each data point belongs to one of $c=2$ possible classes. By convention, we will denote these _class labels_ by \"0\" and \"1.\" However, the ideas can be generalized to the multiclass case, i.e., $c > 2$, with labels $\\{0, 1, \\ldots, c-1\\}$.\n",
        "\n",
        "You'll also want to review from earlier notebooks the concept of gradient ascent/descent (or \"steepest ascent/descent\"), when optimizing a scalar function of a vector variable."
      ]
    },
    {
      "cell_type": "markdown",
      "metadata": {
        "deletable": false,
        "editable": false,
        "nbgrader": {
          "grade": false,
          "grade_id": "cell-2be32325da55a76b",
          "locked": true,
          "schema_version": 1,
          "solution": false
        },
        "id": "SqLmgWHAaTX_"
      },
      "source": [
        "# Part 0: Introduction\n",
        "\n",
        "This part of the notebook introduces you to the classification problem through a \"geometric interpretation.\""
      ]
    },
    {
      "cell_type": "markdown",
      "metadata": {
        "deletable": false,
        "editable": false,
        "nbgrader": {
          "grade": false,
          "grade_id": "cell-6ec6a881ca6be880",
          "locked": true,
          "schema_version": 1,
          "solution": false
        },
        "id": "i2qcEIZPaTX_"
      },
      "source": [
        "## Setup"
      ]
    },
    {
      "cell_type": "code",
      "execution_count": null,
      "metadata": {
        "collapsed": true,
        "deletable": false,
        "editable": false,
        "nbgrader": {
          "grade": false,
          "locked": true,
          "solution": false
        },
        "id": "WNazsSI1aTYA"
      },
      "outputs": [],
      "source": [
        "import pandas as pd\n",
        "import seaborn as sns\n",
        "import matplotlib.pyplot as plt\n",
        "import numpy as np\n",
        "from IPython.display import display, Math\n",
        "\n",
        "%matplotlib inline\n",
        "\n",
        "import matplotlib as mpl\n",
        "mpl.rc(\"savefig\", dpi=100) # Adjust for higher-resolution figures"
      ]
    },
    {
      "cell_type": "markdown",
      "metadata": {
        "deletable": false,
        "editable": false,
        "nbgrader": {
          "grade": false,
          "grade_id": "cell-25bf58221e1d1389",
          "locked": true,
          "schema_version": 1,
          "solution": false
        },
        "id": "ibobToRVaTYB"
      },
      "source": [
        "**A note about slicing columns from a Numpy matrix.** If you want to extract a column `i` from a Numpy matrix `A` _and_ keep it as a column vector, you need to use the slicing notation, `A[:, i:i+1]`. Not doing so can lead to subtle bugs. To see why, compare the following slices."
      ]
    },
    {
      "cell_type": "code",
      "execution_count": null,
      "metadata": {
        "deletable": false,
        "editable": false,
        "nbgrader": {
          "grade": false,
          "grade_id": "cell-2a6416d3e98bae48",
          "locked": true,
          "schema_version": 1,
          "solution": false
        },
        "id": "jy-iLHhuaTYB",
        "outputId": "e659ea18-8026-4017-a703-46871fb38f8a"
      },
      "outputs": [
        {
          "name": "stdout",
          "output_type": "stream",
          "text": [
            "A[:, :] ==\n",
            " [[1. 2. 3.]\n",
            " [4. 5. 6.]\n",
            " [7. 8. 9.]]\n",
            "\n",
            "a0 := A[:, 0] ==\n",
            " [[1.]\n",
            " [4.]\n",
            " [7.]]\n",
            "\n",
            "a1 := A[:, 2:3] == \n",
            " [[3.]\n",
            " [6.]\n",
            " [9.]]\n",
            "\n",
            "Add columns 0 and 2?\n",
            "[[ 4.]\n",
            " [10.]\n",
            " [16.]]\n"
          ]
        }
      ],
      "source": [
        "A = np.array ([[1, 2, 3],\n",
        "               [4, 5, 6],\n",
        "               [7, 8, 9]\n",
        "              ], dtype=float)\n",
        "\n",
        "print (\"A[:, :] ==\\n\", A)\n",
        "print (\"\\na0 := A[:, 0] ==\\n\", A[:, 0:1])\n",
        "print (\"\\na1 := A[:, 2:3] == \\n\", A[:, 2:3])\n",
        "\n",
        "print (\"\\nAdd columns 0 and 2?\")\n",
        "a0 = A[:, 0:1]\n",
        "a1 = A[:, 2:3]\n",
        "print (a0 + a1)"
      ]
    },
    {
      "cell_type": "code",
      "execution_count": null,
      "metadata": {
        "id": "GvI8EtrpaTYC",
        "outputId": "a8d4b682-e978-4ca6-87c5-5ca8210fdf01"
      },
      "outputs": [
        {
          "data": {
            "text/plain": [
              "array([[1., 2., 9.],\n",
              "       [4., 5., 8.],\n",
              "       [7., 8., 9.]])"
            ]
          },
          "execution_count": 3,
          "metadata": {},
          "output_type": "execute_result"
        }
      ],
      "source": [
        "A[:, 2] = [9,8,9]\n",
        "A"
      ]
    },
    {
      "cell_type": "markdown",
      "metadata": {
        "deletable": false,
        "editable": false,
        "nbgrader": {
          "grade": false,
          "grade_id": "cell-e9fc593942ce3c2e",
          "locked": true,
          "schema_version": 1,
          "solution": false
        },
        "id": "u8Q4PF_QaTYD"
      },
      "source": [
        "**Aside: Broadcasting in Numpy.** What is happening in the operation, `a0 + a1`, shown above? When the shapes of two objects do not match, Numpy tries to figure out if there is a natural way to make them compatible. Refer to the supplemental notebook included in Notebook 10 for a review of Numpy's \"broadcasting rule,\" along with other Numpy tips."
      ]
    },
    {
      "cell_type": "markdown",
      "metadata": {
        "deletable": false,
        "editable": false,
        "nbgrader": {
          "grade": false,
          "grade_id": "cell-536ee18dfc3dfd40",
          "locked": true,
          "schema_version": 1,
          "solution": false
        },
        "id": "7Cjg7EpeaTYD"
      },
      "source": [
        "## Example data: Rock lobsters!\n",
        "\n",
        "As a concrete example of a classification task, consider the results of [the following experiment](http://www.stat.ufl.edu/~winner/data/lobster_survive.txt).\n",
        "\n",
        "Some marine biologists started with a bunch of lobsters of varying sizes (size being a proxy for the stage of a lobster's development). They then tethered and exposed these lobsters to a variety of predators. Finally, the outcome that they measured is whether the lobsters survived or not.\n",
        "\n",
        "The data is a set of points, one point per lobster, where there is a single predictor (the lobster's size) and the response is whether the lobsters survived (label \"1\") or died (label \"0\").\n",
        "\n",
        "> For the original paper, see [this link](https://www.sciencedirect.com/science/article/pii/S0022098115000039). For what we can only guess is what marine biologists do in their labs, see [this image](http://i.imgur.com/dQDKgys.jpg)."
      ]
    },
    {
      "cell_type": "markdown",
      "metadata": {
        "deletable": false,
        "editable": false,
        "nbgrader": {
          "grade": false,
          "locked": true,
          "solution": false
        },
        "id": "e0DCgK1GaTYD"
      },
      "source": [
        "Run the following code cell, which will acquire the data needed for this problem."
      ]
    },
    {
      "cell_type": "code",
      "execution_count": null,
      "metadata": {
        "deletable": false,
        "editable": false,
        "nbgrader": {
          "grade": false,
          "locked": true,
          "solution": false
        },
        "id": "Lgix2p2saTYE",
        "outputId": "bf0db1b2-b874-4db2-ad21-53b67a58829d"
      },
      "outputs": [
        {
          "name": "stdout",
          "output_type": "stream",
          "text": [
            "'lobster_survive.dat.txt' is ready!\n",
            "'logreg_points_train.csv' is ready!\n",
            "'log_likelihood_soln.npz' is ready!\n",
            "'grad_log_likelihood_soln.npz' is ready!\n",
            "'hess_log_likelihood_soln.npz' is ready!\n"
          ]
        }
      ],
      "source": [
        "from cse6040utils import download_all, LOCAL_BASE\n",
        "\n",
        "datasets = {'lobster_survive.dat.txt': '12fc1c22ed9b4d7bf04bf7e0fec996b7',\n",
        "            'logreg_points_train.csv': '25bbca6105bae047ac4d62ee8b76c841',\n",
        "            'log_likelihood_soln.npz': '5a9e17d56937855727afa6db1cd83306',\n",
        "            'grad_log_likelihood_soln.npz': 'a67c00bfa95929e12d423105d8412026',\n",
        "            'hess_log_likelihood_soln.npz': 'b46443fbf0577423b084122503125887'}\n",
        "\n",
        "download_all(datasets, url_suffix='rock-lobster/');"
      ]
    },
    {
      "cell_type": "markdown",
      "metadata": {
        "deletable": false,
        "editable": false,
        "nbgrader": {
          "grade": false,
          "grade_id": "cell-4b8ecbcdbed6ed0f",
          "locked": true,
          "schema_version": 1,
          "solution": false
        },
        "id": "y7gV8OD1aTYE"
      },
      "source": [
        "Here is a plot of the raw data, which was taken from [this source](http://www.stat.ufl.edu/~winner/data/lobster_survive.dat)."
      ]
    },
    {
      "cell_type": "code",
      "execution_count": null,
      "metadata": {
        "deletable": false,
        "editable": false,
        "nbgrader": {
          "grade": false,
          "grade_id": "cell-34dbbf85a3b35b96",
          "locked": true,
          "schema_version": 1,
          "solution": false
        },
        "scrolled": true,
        "id": "iWZtrgE2aTYE",
        "outputId": "d63e0f63-011d-4054-85af-ac0f0b661490"
      },
      "outputs": [
        {
          "data": {
            "text/html": [
              "<div>\n",
              "<style scoped>\n",
              "    .dataframe tbody tr th:only-of-type {\n",
              "        vertical-align: middle;\n",
              "    }\n",
              "\n",
              "    .dataframe tbody tr th {\n",
              "        vertical-align: top;\n",
              "    }\n",
              "\n",
              "    .dataframe thead th {\n",
              "        text-align: right;\n",
              "    }\n",
              "</style>\n",
              "<table border=\"1\" class=\"dataframe\">\n",
              "  <thead>\n",
              "    <tr style=\"text-align: right;\">\n",
              "      <th></th>\n",
              "      <th>CarapaceLen</th>\n",
              "      <th>Survived</th>\n",
              "    </tr>\n",
              "  </thead>\n",
              "  <tbody>\n",
              "    <tr>\n",
              "      <th>0</th>\n",
              "      <td>27</td>\n",
              "      <td>0</td>\n",
              "    </tr>\n",
              "    <tr>\n",
              "      <th>1</th>\n",
              "      <td>27</td>\n",
              "      <td>0</td>\n",
              "    </tr>\n",
              "    <tr>\n",
              "      <th>2</th>\n",
              "      <td>27</td>\n",
              "      <td>0</td>\n",
              "    </tr>\n",
              "    <tr>\n",
              "      <th>3</th>\n",
              "      <td>27</td>\n",
              "      <td>0</td>\n",
              "    </tr>\n",
              "    <tr>\n",
              "      <th>4</th>\n",
              "      <td>27</td>\n",
              "      <td>0</td>\n",
              "    </tr>\n",
              "  </tbody>\n",
              "</table>\n",
              "</div>"
            ],
            "text/plain": [
              "   CarapaceLen  Survived\n",
              "0           27         0\n",
              "1           27         0\n",
              "2           27         0\n",
              "3           27         0\n",
              "4           27         0"
            ]
          },
          "metadata": {},
          "output_type": "display_data"
        },
        {
          "name": "stdout",
          "output_type": "stream",
          "text": [
            "...\n"
          ]
        },
        {
          "data": {
            "text/html": [
              "<div>\n",
              "<style scoped>\n",
              "    .dataframe tbody tr th:only-of-type {\n",
              "        vertical-align: middle;\n",
              "    }\n",
              "\n",
              "    .dataframe tbody tr th {\n",
              "        vertical-align: top;\n",
              "    }\n",
              "\n",
              "    .dataframe thead th {\n",
              "        text-align: right;\n",
              "    }\n",
              "</style>\n",
              "<table border=\"1\" class=\"dataframe\">\n",
              "  <thead>\n",
              "    <tr style=\"text-align: right;\">\n",
              "      <th></th>\n",
              "      <th>CarapaceLen</th>\n",
              "      <th>Survived</th>\n",
              "    </tr>\n",
              "  </thead>\n",
              "  <tbody>\n",
              "    <tr>\n",
              "      <th>154</th>\n",
              "      <td>54</td>\n",
              "      <td>1</td>\n",
              "    </tr>\n",
              "    <tr>\n",
              "      <th>155</th>\n",
              "      <td>54</td>\n",
              "      <td>1</td>\n",
              "    </tr>\n",
              "    <tr>\n",
              "      <th>156</th>\n",
              "      <td>54</td>\n",
              "      <td>1</td>\n",
              "    </tr>\n",
              "    <tr>\n",
              "      <th>157</th>\n",
              "      <td>54</td>\n",
              "      <td>1</td>\n",
              "    </tr>\n",
              "    <tr>\n",
              "      <th>158</th>\n",
              "      <td>57</td>\n",
              "      <td>1</td>\n",
              "    </tr>\n",
              "  </tbody>\n",
              "</table>\n",
              "</div>"
            ],
            "text/plain": [
              "     CarapaceLen  Survived\n",
              "154           54         1\n",
              "155           54         1\n",
              "156           54         1\n",
              "157           54         1\n",
              "158           57         1"
            ]
          },
          "metadata": {},
          "output_type": "display_data"
        }
      ],
      "source": [
        "df_lobsters = pd.read_table('{}lobster_survive.dat.txt'.format(LOCAL_BASE),\n",
        "                            sep=r'\\s+', names=['CarapaceLen', 'Survived'])\n",
        "display(df_lobsters.head())\n",
        "print(\"...\")\n",
        "display(df_lobsters.tail())"
      ]
    },
    {
      "cell_type": "markdown",
      "metadata": {
        "deletable": false,
        "editable": false,
        "nbgrader": {
          "grade": false,
          "locked": true,
          "solution": false
        },
        "id": "tohRudAmaTYE"
      },
      "source": [
        "To get a feel for these data, here are some simple descriptive statistics for each of the two classes:"
      ]
    },
    {
      "cell_type": "code",
      "execution_count": null,
      "metadata": {
        "id": "MSTLckwraTYE",
        "outputId": "b428f7a4-9937-4e13-bd31-580a419285b5"
      },
      "outputs": [
        {
          "name": "stdout",
          "output_type": "stream",
          "text": [
            "=== Survived class (label 1) ===\n"
          ]
        },
        {
          "data": {
            "text/html": [
              "<div>\n",
              "<style scoped>\n",
              "    .dataframe tbody tr th:only-of-type {\n",
              "        vertical-align: middle;\n",
              "    }\n",
              "\n",
              "    .dataframe tbody tr th {\n",
              "        vertical-align: top;\n",
              "    }\n",
              "\n",
              "    .dataframe thead th {\n",
              "        text-align: right;\n",
              "    }\n",
              "</style>\n",
              "<table border=\"1\" class=\"dataframe\">\n",
              "  <thead>\n",
              "    <tr style=\"text-align: right;\">\n",
              "      <th></th>\n",
              "      <th>CarapaceLen</th>\n",
              "      <th>Survived</th>\n",
              "    </tr>\n",
              "  </thead>\n",
              "  <tbody>\n",
              "    <tr>\n",
              "      <th>count</th>\n",
              "      <td>79.000000</td>\n",
              "      <td>79.0</td>\n",
              "    </tr>\n",
              "    <tr>\n",
              "      <th>mean</th>\n",
              "      <td>43.822785</td>\n",
              "      <td>1.0</td>\n",
              "    </tr>\n",
              "    <tr>\n",
              "      <th>std</th>\n",
              "      <td>5.872054</td>\n",
              "      <td>0.0</td>\n",
              "    </tr>\n",
              "    <tr>\n",
              "      <th>min</th>\n",
              "      <td>30.000000</td>\n",
              "      <td>1.0</td>\n",
              "    </tr>\n",
              "    <tr>\n",
              "      <th>25%</th>\n",
              "      <td>39.000000</td>\n",
              "      <td>1.0</td>\n",
              "    </tr>\n",
              "    <tr>\n",
              "      <th>50%</th>\n",
              "      <td>42.000000</td>\n",
              "      <td>1.0</td>\n",
              "    </tr>\n",
              "    <tr>\n",
              "      <th>75%</th>\n",
              "      <td>48.000000</td>\n",
              "      <td>1.0</td>\n",
              "    </tr>\n",
              "    <tr>\n",
              "      <th>max</th>\n",
              "      <td>57.000000</td>\n",
              "      <td>1.0</td>\n",
              "    </tr>\n",
              "  </tbody>\n",
              "</table>\n",
              "</div>"
            ],
            "text/plain": [
              "       CarapaceLen  Survived\n",
              "count    79.000000      79.0\n",
              "mean     43.822785       1.0\n",
              "std       5.872054       0.0\n",
              "min      30.000000       1.0\n",
              "25%      39.000000       1.0\n",
              "50%      42.000000       1.0\n",
              "75%      48.000000       1.0\n",
              "max      57.000000       1.0"
            ]
          },
          "metadata": {},
          "output_type": "display_data"
        },
        {
          "name": "stdout",
          "output_type": "stream",
          "text": [
            "\n",
            "=== Died class (label 0) ===\n"
          ]
        },
        {
          "data": {
            "text/html": [
              "<div>\n",
              "<style scoped>\n",
              "    .dataframe tbody tr th:only-of-type {\n",
              "        vertical-align: middle;\n",
              "    }\n",
              "\n",
              "    .dataframe tbody tr th {\n",
              "        vertical-align: top;\n",
              "    }\n",
              "\n",
              "    .dataframe thead th {\n",
              "        text-align: right;\n",
              "    }\n",
              "</style>\n",
              "<table border=\"1\" class=\"dataframe\">\n",
              "  <thead>\n",
              "    <tr style=\"text-align: right;\">\n",
              "      <th></th>\n",
              "      <th>CarapaceLen</th>\n",
              "      <th>Survived</th>\n",
              "    </tr>\n",
              "  </thead>\n",
              "  <tbody>\n",
              "    <tr>\n",
              "      <th>count</th>\n",
              "      <td>80.000000</td>\n",
              "      <td>80.0</td>\n",
              "    </tr>\n",
              "    <tr>\n",
              "      <th>mean</th>\n",
              "      <td>36.825000</td>\n",
              "      <td>0.0</td>\n",
              "    </tr>\n",
              "    <tr>\n",
              "      <th>std</th>\n",
              "      <td>5.865097</td>\n",
              "      <td>0.0</td>\n",
              "    </tr>\n",
              "    <tr>\n",
              "      <th>min</th>\n",
              "      <td>27.000000</td>\n",
              "      <td>0.0</td>\n",
              "    </tr>\n",
              "    <tr>\n",
              "      <th>25%</th>\n",
              "      <td>33.000000</td>\n",
              "      <td>0.0</td>\n",
              "    </tr>\n",
              "    <tr>\n",
              "      <th>50%</th>\n",
              "      <td>36.000000</td>\n",
              "      <td>0.0</td>\n",
              "    </tr>\n",
              "    <tr>\n",
              "      <th>75%</th>\n",
              "      <td>42.000000</td>\n",
              "      <td>0.0</td>\n",
              "    </tr>\n",
              "    <tr>\n",
              "      <th>max</th>\n",
              "      <td>51.000000</td>\n",
              "      <td>0.0</td>\n",
              "    </tr>\n",
              "  </tbody>\n",
              "</table>\n",
              "</div>"
            ],
            "text/plain": [
              "       CarapaceLen  Survived\n",
              "count    80.000000      80.0\n",
              "mean     36.825000       0.0\n",
              "std       5.865097       0.0\n",
              "min      27.000000       0.0\n",
              "25%      33.000000       0.0\n",
              "50%      36.000000       0.0\n",
              "75%      42.000000       0.0\n",
              "max      51.000000       0.0"
            ]
          },
          "metadata": {},
          "output_type": "display_data"
        }
      ],
      "source": [
        "print(\"=== Survived class (label 1) ===\")\n",
        "display(df_lobsters[df_lobsters['Survived'] == 1].describe())\n",
        "\n",
        "print(\"\\n=== Died class (label 0) ===\")\n",
        "display(df_lobsters[df_lobsters['Survived'] == 0].describe())"
      ]
    },
    {
      "cell_type": "markdown",
      "metadata": {
        "deletable": false,
        "editable": false,
        "nbgrader": {
          "grade": false,
          "locked": true,
          "solution": false
        },
        "id": "4tHJX2kDaTYE"
      },
      "source": [
        "The classes are distinct in the aggregate: the median carapace (outer shell) length is around 36 mm for the lobsters that died and 42 mm for those that survived. However, from the standard deviation and 25%/75% quantiles, you can also see the two classes are not cleanly separable.\n",
        "\n",
        "If you are a more visual person, here is a plot that illustrates the same point."
      ]
    },
    {
      "cell_type": "code",
      "execution_count": null,
      "metadata": {
        "deletable": false,
        "editable": false,
        "nbgrader": {
          "grade": false,
          "grade_id": "cell-1b0479f3da84b12a",
          "locked": true,
          "schema_version": 1,
          "solution": false
        },
        "id": "8ecvbXaraTYF",
        "outputId": "92ce041a-f202-42c3-f660-6d7fab8d9747"
      },
      "outputs": [
        {
          "data": {
            "image/png": "[encoded data removed]",
            "text/plain": [
              "<Figure size 432x288 with 1 Axes>"
            ]
          },
          "metadata": {
            "needs_background": "light"
          },
          "output_type": "display_data"
        }
      ],
      "source": [
        "ax = sns.violinplot(x=\"Survived\", y=\"CarapaceLen\",\n",
        "                    data=df_lobsters, inner=\"quart\")\n",
        "ax.set(xlabel=\"Survived? (0=no, 1=yes)\",\n",
        "       ylabel=\"\",\n",
        "       title=\"Body length (carpace, in mm) vs. survival\");"
      ]
    },
    {
      "cell_type": "markdown",
      "metadata": {
        "deletable": false,
        "editable": false,
        "nbgrader": {
          "grade": false,
          "grade_id": "cell-e54df7bec0815e1b",
          "locked": true,
          "schema_version": 1,
          "solution": false
        },
        "id": "oA-PNBpiaTYF"
      },
      "source": [
        "## Notation\n",
        "\n",
        "To develop some intuition and a classification algorithm, let's formulate the general problem and apply it to synthetic data sets.\n",
        "\n",
        "Let the data consist of $m$ observations of $d$ continuously-valued predictors. In addition, for each data observation we observe a binary label whose value is either 0 or 1.\n",
        "\n",
        "Just like our convention in the linear regression case, represent each observation, or data point, by an _augumented_ vector, $\\hat{x}_i^T$,\n",
        "\n",
        "$$\n",
        "\\begin{array}{rcl}\n",
        "  \\hat{x}_i^T\n",
        "    & \\equiv &\n",
        "      \\left(\\begin{array}{ccccc}\n",
        "        x_{i,0} &\n",
        "        x_{i,1} &\n",
        "         \\cdots &\n",
        "        x_{i,d-1} &\n",
        "            1\n",
        "      \\end{array}\\right)\n",
        "      .\n",
        "\\end{array}\n",
        "$$\n",
        "\n",
        "That is, the point is the $d$ coordinates augmented by an initial dummy coordinate whose value is 1. This convention is similar to what we did in linear regression.\n",
        "\n",
        "We can also stack these points as rows of a matrix, $X$, again, just as we did in regression:\n",
        "\n",
        "$$\n",
        "\\begin{array}{rcl}\n",
        "  X \\equiv\n",
        "    \\left(\\begin{array}{c}\n",
        "      \\hat{x}_0^T \\\\\n",
        "      \\hat{x}_1^T \\\\\n",
        "      \\vdots \\\\\n",
        "      \\hat{x}_{m-1}^T\n",
        "    \\end{array}\\right)\n",
        "  & = &\n",
        "    \\left(\\begin{array}{ccccc}\n",
        "      x_{0,1} & x_{0,2} & \\cdots & x_{0,d} & 1 \\\\\n",
        "      x_{1,1} & x_{1,2} & \\cdots & x_{1,d} & 1 \\\\\n",
        "              &         & \\vdots & & 1\\\\\n",
        "      x_{m-1,1} & x_{m-1,2} & \\cdots & x_{m-1,d} & 1 \\\\\n",
        "    \\end{array}\\right).\n",
        "\\end{array}\n",
        "$$\n",
        "\n",
        "We will take the labels to be a binary vector, $y^T \\equiv \\left(y_0, y_1, \\ldots, y_{m-1}\\right)^T$."
      ]
    },
    {
      "cell_type": "markdown",
      "metadata": {
        "deletable": false,
        "editable": false,
        "nbgrader": {
          "grade": false,
          "grade_id": "cell-a7faf8dffab8d3dd",
          "locked": true,
          "schema_version": 1,
          "solution": false
        },
        "id": "anVvE8wmaTYF"
      },
      "source": [
        "**Example: A synthetic training set.** We've pre-generated a synthetic data set consisting of labeled data points. Let's download and inspect it, first as a table and then visually."
      ]
    },
    {
      "cell_type": "code",
      "execution_count": null,
      "metadata": {
        "deletable": false,
        "editable": false,
        "nbgrader": {
          "grade": false,
          "grade_id": "cell-be9597462a136386",
          "locked": true,
          "schema_version": 1,
          "solution": false
        },
        "id": "rWm32xrdaTYF",
        "outputId": "2afe6673-ee32-4c49-dc3b-4db27598c4cf"
      },
      "outputs": [
        {
          "data": {
            "text/html": [
              "<div>\n",
              "<style scoped>\n",
              "    .dataframe tbody tr th:only-of-type {\n",
              "        vertical-align: middle;\n",
              "    }\n",
              "\n",
              "    .dataframe tbody tr th {\n",
              "        vertical-align: top;\n",
              "    }\n",
              "\n",
              "    .dataframe thead th {\n",
              "        text-align: right;\n",
              "    }\n",
              "</style>\n",
              "<table border=\"1\" class=\"dataframe\">\n",
              "  <thead>\n",
              "    <tr style=\"text-align: right;\">\n",
              "      <th></th>\n",
              "      <th>x_0</th>\n",
              "      <th>x_1</th>\n",
              "      <th>label</th>\n",
              "    </tr>\n",
              "  </thead>\n",
              "  <tbody>\n",
              "    <tr>\n",
              "      <th>0</th>\n",
              "      <td>-0.234443</td>\n",
              "      <td>-1.075960</td>\n",
              "      <td>1</td>\n",
              "    </tr>\n",
              "    <tr>\n",
              "      <th>1</th>\n",
              "      <td>0.730359</td>\n",
              "      <td>-0.918093</td>\n",
              "      <td>0</td>\n",
              "    </tr>\n",
              "    <tr>\n",
              "      <th>2</th>\n",
              "      <td>1.432270</td>\n",
              "      <td>-0.439449</td>\n",
              "      <td>0</td>\n",
              "    </tr>\n",
              "    <tr>\n",
              "      <th>3</th>\n",
              "      <td>0.026733</td>\n",
              "      <td>1.050300</td>\n",
              "      <td>0</td>\n",
              "    </tr>\n",
              "    <tr>\n",
              "      <th>4</th>\n",
              "      <td>1.879650</td>\n",
              "      <td>0.207743</td>\n",
              "      <td>0</td>\n",
              "    </tr>\n",
              "  </tbody>\n",
              "</table>\n",
              "</div>"
            ],
            "text/plain": [
              "        x_0       x_1  label\n",
              "0 -0.234443 -1.075960      1\n",
              "1  0.730359 -0.918093      0\n",
              "2  1.432270 -0.439449      0\n",
              "3  0.026733  1.050300      0\n",
              "4  1.879650  0.207743      0"
            ]
          },
          "metadata": {},
          "output_type": "display_data"
        },
        {
          "name": "stdout",
          "output_type": "stream",
          "text": [
            "...\n"
          ]
        },
        {
          "data": {
            "text/html": [
              "<div>\n",
              "<style scoped>\n",
              "    .dataframe tbody tr th:only-of-type {\n",
              "        vertical-align: middle;\n",
              "    }\n",
              "\n",
              "    .dataframe tbody tr th {\n",
              "        vertical-align: top;\n",
              "    }\n",
              "\n",
              "    .dataframe thead th {\n",
              "        text-align: right;\n",
              "    }\n",
              "</style>\n",
              "<table border=\"1\" class=\"dataframe\">\n",
              "  <thead>\n",
              "    <tr style=\"text-align: right;\">\n",
              "      <th></th>\n",
              "      <th>x_0</th>\n",
              "      <th>x_1</th>\n",
              "      <th>label</th>\n",
              "    </tr>\n",
              "  </thead>\n",
              "  <tbody>\n",
              "    <tr>\n",
              "      <th>370</th>\n",
              "      <td>1.314300</td>\n",
              "      <td>0.746001</td>\n",
              "      <td>0</td>\n",
              "    </tr>\n",
              "    <tr>\n",
              "      <th>371</th>\n",
              "      <td>-0.759737</td>\n",
              "      <td>-0.042944</td>\n",
              "      <td>1</td>\n",
              "    </tr>\n",
              "    <tr>\n",
              "      <th>372</th>\n",
              "      <td>0.683560</td>\n",
              "      <td>-0.047791</td>\n",
              "      <td>0</td>\n",
              "    </tr>\n",
              "    <tr>\n",
              "      <th>373</th>\n",
              "      <td>0.774747</td>\n",
              "      <td>0.743837</td>\n",
              "      <td>0</td>\n",
              "    </tr>\n",
              "    <tr>\n",
              "      <th>374</th>\n",
              "      <td>0.899119</td>\n",
              "      <td>1.576390</td>\n",
              "      <td>0</td>\n",
              "    </tr>\n",
              "  </tbody>\n",
              "</table>\n",
              "</div>"
            ],
            "text/plain": [
              "          x_0       x_1  label\n",
              "370  1.314300  0.746001      0\n",
              "371 -0.759737 -0.042944      1\n",
              "372  0.683560 -0.047791      0\n",
              "373  0.774747  0.743837      0\n",
              "374  0.899119  1.576390      0"
            ]
          },
          "metadata": {},
          "output_type": "display_data"
        }
      ],
      "source": [
        "df = pd.read_csv('{}logreg_points_train.csv'.format(LOCAL_BASE))\n",
        "\n",
        "display(df.head())\n",
        "print(\"...\")\n",
        "display(df.tail())"
      ]
    },
    {
      "cell_type": "code",
      "execution_count": null,
      "metadata": {
        "deletable": false,
        "editable": false,
        "nbgrader": {
          "grade": false,
          "grade_id": "cell-95e60122f5bf2c37",
          "locked": true,
          "schema_version": 1,
          "solution": false
        },
        "id": "rfy38moMaTYF",
        "outputId": "d2a169f8-abb4-4ec6-d84d-7b871e2d16f3"
      },
      "outputs": [
        {
          "data": {
            "image/png": "[encoded data removed]",
            "text/plain": [
              "<Figure size 402.375x360 with 1 Axes>"
            ]
          },
          "metadata": {
            "needs_background": "light"
          },
          "output_type": "display_data"
        }
      ],
      "source": [
        "def make_scatter_plot(df, x=\"x_0\", y=\"x_1\", hue=\"label\",\n",
        "                      palette={0: \"orange\", 1: \"blue\"},\n",
        "                      markers=['o', 's'],\n",
        "                      size=5):\n",
        "    sns.lmplot(x=x, y=y, hue=hue, data=df, palette=palette,\n",
        "               markers=markers, fit_reg=False)\n",
        "\n",
        "mpl.rc(\"savefig\", dpi=120) # Adjust for higher-resolution figures\n",
        "make_scatter_plot(df)"
      ]
    },
    {
      "cell_type": "markdown",
      "metadata": {
        "deletable": false,
        "editable": false,
        "nbgrader": {
          "grade": false,
          "grade_id": "cell-dc030189de19fae2",
          "locked": true,
          "schema_version": 1,
          "solution": false
        },
        "id": "PWpvCG8KaTYF"
      },
      "source": [
        "Next, let's extract the coordinates as a Numpy matrix of `points` and the labels as a **Numpy column vector** named `labels`. Mathematically, the `points` matrix corresponds to $X$ and the `labels` vector corresponds to $y$.\n",
        "\n",
        "> The reason \"Numpy column vector\" is highlighted is to emphasize that we will store this vector as a 2-D array with one column, as opposed to a 1-D array. Inspect the output below if that isn't clear."
      ]
    },
    {
      "cell_type": "code",
      "execution_count": null,
      "metadata": {
        "deletable": false,
        "editable": false,
        "nbgrader": {
          "grade": false,
          "grade_id": "cell-10defdecccd3eb4d",
          "locked": true,
          "schema_version": 1,
          "solution": false
        },
        "id": "ZKHNsoQkaTYF",
        "outputId": "3cb1817c-1d98-442c-916b-f112f73500dc"
      },
      "outputs": [
        {
          "name": "stdout",
          "output_type": "stream",
          "text": [
            "First and last 5 points:\n",
            " ======================= \n",
            " [[-0.234443  -1.07596    1.       ]\n",
            " [ 0.730359  -0.918093   1.       ]\n",
            " [ 1.43227   -0.439449   1.       ]\n",
            " [ 0.0267327  1.0503     1.       ]\n",
            " [ 1.87965    0.207743   1.       ]] \n",
            "...\n",
            " [[ 1.3143     0.746001   1.       ]\n",
            " [-0.759737  -0.0429435  1.       ]\n",
            " [ 0.68356   -0.0477909  1.       ]\n",
            " [ 0.774747   0.743837   1.       ]\n",
            " [ 0.899119   1.57639    1.       ]] \n",
            "\n",
            "First and last 5 labels:\n",
            " ======================= \n",
            " [[1]\n",
            " [0]\n",
            " [0]\n",
            " [0]\n",
            " [0]] \n",
            "...\n",
            " [[0]\n",
            " [1]\n",
            " [0]\n",
            " [0]\n",
            " [0]] \n",
            "\n"
          ]
        }
      ],
      "source": [
        "points = np.insert(df[['x_0', 'x_1']].values, 2, 1.0, axis=1)\n",
        "labels = df['label'].values[:, np.newaxis]\n",
        "\n",
        "print (\"First and last 5 points:\\n\", '='*23, '\\n', points[:5], '\\n...\\n', points[-5:], '\\n')\n",
        "print (\"First and last 5 labels:\\n\", '='*23, '\\n', labels[:5], '\\n...\\n', labels[-5:], '\\n')"
      ]
    },
    {
      "cell_type": "markdown",
      "metadata": {
        "deletable": false,
        "editable": false,
        "nbgrader": {
          "grade": false,
          "grade_id": "cell-a04efb5033be35f2",
          "locked": true,
          "schema_version": 1,
          "solution": false
        },
        "id": "b6TEdkBXaTYG"
      },
      "source": [
        "## Linear discriminants and the heaviside function\n",
        "\n",
        "Suppose you think that the _boundary_ between the two clusters may be represented by a line. For the synthetic data example above, I hope you'll agree that such a model is not a terrible one.\n",
        "\n",
        "A linear boundary is also known as a _linear discriminant_. Any point $x$ on this line may be described by $\\theta^T \\! x$, where $\\theta$ is a vector of coefficients:\n",
        "\n",
        "$$\n",
        "\\begin{array}{rcl}\n",
        "  \\theta\n",
        "    & \\equiv &\n",
        "      \\left(\\begin{array}{c} \\theta_0 \\\\ \\theta_1 \\\\ \\vdots \\\\ \\theta_d \\end{array}\\right)\n",
        "      .\n",
        "      \\\\\n",
        "\\end{array}\n",
        "$$\n",
        "\n",
        "For example, suppose our observations have two predictors each ($d=2$). Let the corresponding data point be $x^T \\equiv (x_0, x_1, x_2=1.0)$. Then, $\\theta^T \\! x = 0$ means that\n",
        "\n",
        "$$\n",
        "\\begin{array}{rrcl}\n",
        "  &\n",
        "  \\theta^T \\! x = 0\n",
        "  & = & \\theta_0 x_0 + \\theta_1 x_1 + \\theta_2 \\\\\n",
        "  \\implies\n",
        "  & x_1\n",
        "    & = & -\\frac{\\theta_2}{\\theta_1} - \\frac{\\theta_0}{\\theta_1} x_0.\n",
        "\\end{array}\n",
        "$$"
      ]
    },
    {
      "cell_type": "markdown",
      "metadata": {
        "deletable": false,
        "editable": false,
        "nbgrader": {
          "grade": false,
          "grade_id": "cell-7468579ce4fd7631",
          "locked": true,
          "schema_version": 1,
          "solution": false
        },
        "id": "03BWZ1aOaTYG"
      },
      "source": [
        "So that describes points _on_ the line. However, given _any_ point $x$ in the $d$-dimensional space that is _not_ on the line, $\\theta^T \\! x$ still produces a value: that value will be positive on one side of the line ($\\theta^T \\! x > 0$) or negative on the other ($\\theta^T \\! x < 0$).\n",
        "\n",
        "In other words, you can use the linear discriminant function, $\\theta^T \\! x$, to _generate_ a label for each point $x$: just reinterpret its sign!\n",
        "\n",
        "If you want \"0\" and \"1\" labels, the _heaviside function_, $H(y)$, will convert a positive $y$ to the label \"1\" and all other values to \"0\".\n",
        "\n",
        "$$\n",
        "\\begin{array}{rcl}\n",
        "  H(y) & \\equiv & \\left\\{\\begin{array}{ll}\n",
        "      1 & \\mathrm{if}\\ y > 0\n",
        "      \\\\\n",
        "      0 & \\mathrm{if}\\ y \\leq 0\n",
        "    \\end{array}\\right..\n",
        "\\end{array}\n",
        "$$"
      ]
    },
    {
      "cell_type": "markdown",
      "metadata": {
        "deletable": false,
        "editable": false,
        "nbgrader": {
          "grade": false,
          "grade_id": "cell-6f1e3976c8ca5a8a",
          "locked": true,
          "schema_version": 1,
          "solution": false
        },
        "id": "QKgS0aF7aTYG"
      },
      "source": [
        "**Exercise 0** (2 points). Given a $m \\times (d+1)$ matrix of augmented points (i.e., the $X$ matrix) and a column vector $\\theta$ of length $d+1$, implement a function to compute the value of the linear discriminant at each point. That is, the function should return a (column) vector $y$ where the $y_i = \\theta^T \\! \\hat{x}_i$."
      ]
    },
    {
      "cell_type": "code",
      "execution_count": null,
      "metadata": {
        "collapsed": true,
        "nbgrader": {
          "grade": false,
          "grade_id": "lin_discr",
          "locked": false,
          "schema_version": 1,
          "solution": true
        },
        "id": "XZvQYobOaTYG"
      },
      "outputs": [],
      "source": [
        "def lin_discr (X, theta):\n",
        "    y = X.dot(theta)\n",
        "    return y\n"
      ]
    },
    {
      "cell_type": "code",
      "execution_count": null,
      "metadata": {
        "deletable": false,
        "editable": false,
        "nbgrader": {
          "grade": true,
          "grade_id": "lin_discr__check",
          "locked": true,
          "points": 2,
          "schema_version": 1,
          "solution": false
        },
        "id": "ugXRi8rFaTYG",
        "outputId": "bba043ba-cd12-499b-82a3-19e09d76c118"
      },
      "outputs": [
        {
          "name": "stdout",
          "output_type": "stream",
          "text": [
            "[[ 0.36090275 -4.06554808  1.        ]\n",
            " [ 1.82614976 -6.10370432  1.        ]\n",
            " [ 0.09022569 -4.06554808  1.        ]\n",
            " [ 0.45653744 -6.10370432  1.        ]] \n",
            "\n",
            "[[ 0.14025095]\n",
            " [ 0.70966273]\n",
            " [-0.07012547]\n",
            " [-0.35483136]]\n",
            "\n",
            "(Passed.)\n"
          ]
        }
      ],
      "source": [
        "# Test cell: `lin_discr__check`\n",
        "import random\n",
        "theta_test = [random.random() for _ in range (3)]\n",
        "x0_test = [random.random() for _ in range (2)]\n",
        "x1_test = [(-theta_test[2] - theta_test[0]*x0) / theta_test[1] for x0 in x0_test]\n",
        "X_test = np.array ([[x0*2 for x0 in x0_test] + [x0*0.5 for x0 in x0_test],\n",
        "                    x1_test + x1_test,\n",
        "                    [1.0, 1.0, 1.0, 1.0],]).T\n",
        "print(X_test, \"\\n\")\n",
        "LD_test = lin_discr(X_test, np.array([theta_test]).T)\n",
        "print (LD_test)\n",
        "dim = np.shape(LD_test)\n",
        "assert len(dim)==2,\"Your function should return a 2-dimensional column vector\"\n",
        "assert dim[0]==len(X_test),\"Your length of y is not consistent with the number of observations\"\n",
        "assert dim[1]==1,\"Your y is not a column vector\"\n",
        "assert (LD_test[:2] > 0).all ()\n",
        "assert (LD_test[2:] < 0).all ()\n",
        "print(\"\\n(Passed.)\")"
      ]
    },
    {
      "cell_type": "markdown",
      "metadata": {
        "deletable": false,
        "editable": false,
        "nbgrader": {
          "grade": false,
          "grade_id": "cell-3c309993fc0f570a",
          "locked": true,
          "schema_version": 1,
          "solution": false
        },
        "id": "29Vie2OhaTYG"
      },
      "source": [
        "**Exercise 1** (2 points). Implement the _heaviside function_, $H(y)$. Your function should allow for an arbitrary _matrix_ of input values and should apply the heaviside function to each element. In the returned matrix, the elements should have a **floating-point type**.\n",
        "\n",
        "Example, the code snippet\n",
        "\n",
        "```python\n",
        "    A = np.array([[-0.5, 0.2, 0.0],\n",
        "                  [4.2, 3.14, -2.7]])\n",
        "    print(heaviside(A))\n",
        "```\n",
        "\n",
        "should display\n",
        "\n",
        "```\n",
        "    [[ 0.  1.  0.]\n",
        "     [ 1.  1.  0.]]\n",
        "```\n",
        "\n",
        "> There are several possible approaches that lead to one-line solutions. One uses only logical and arithmetic operators, which you will recall are implemented as elementwise operations for Numpy arrays. Another uses Numpy's [`sign()`](http://docs.scipy.org/doc/numpy/reference/generated/numpy.sign.html) function."
      ]
    },
    {
      "cell_type": "code",
      "execution_count": null,
      "metadata": {
        "collapsed": true,
        "nbgrader": {
          "grade": false,
          "grade_id": "heaviside",
          "locked": false,
          "schema_version": 1,
          "solution": true
        },
        "id": "IN_vGrgQaTYG"
      },
      "outputs": [],
      "source": [
        "\n",
        "def heaviside(Y):\n",
        "    if len(Y.shape) < 2:\n",
        "        res = np.array([ 1. if Y[i] > 0 else 0. for i in range(Y.shape[0])])\n",
        "    else:\n",
        "        res = np.array([[ 1. if Y[i,j] > 0 else 0. for j in range(Y.shape[1])] for i in range(Y.shape[0])])\n",
        "    return res\n"
      ]
    },
    {
      "cell_type": "code",
      "execution_count": null,
      "metadata": {
        "deletable": false,
        "editable": false,
        "nbgrader": {
          "grade": true,
          "grade_id": "heaviside__check",
          "locked": true,
          "points": 2,
          "schema_version": 1,
          "solution": false
        },
        "id": "PdhgV_WeaTYG",
        "outputId": "f14d0855-667b-4231-c3ad-5583ffbaf1dc"
      },
      "outputs": [
        {
          "name": "stdout",
          "output_type": "stream",
          "text": [
            "Y:\n",
            " [[-2.3  1.2  7. ]\n",
            " [ 0.  -inf  inf]]\n",
            "\n",
            "H(Y):\n",
            " [[0. 1. 1.]\n",
            " [0. 0. 1.]]\n",
            "\n",
            "(Passed.)\n"
          ]
        }
      ],
      "source": [
        "# Test cell: `heaviside__check`\n",
        "\n",
        "Y_test = np.array([[-2.3, 1.2, 7.],\n",
        "                   [0.0, -np.inf, np.inf]])\n",
        "H_Y_test = heaviside(Y_test)\n",
        "\n",
        "print(\"Y:\\n\", Y_test)\n",
        "print(\"\\nH(Y):\\n\", H_Y_test)\n",
        "\n",
        "assert (H_Y_test.astype(int) == np.array([[0, 1, 1], [0, 0, 1]])).all ()\n",
        "\n",
        "print (\"\\n(Passed.)\")"
      ]
    },
    {
      "cell_type": "markdown",
      "metadata": {
        "deletable": false,
        "editable": false,
        "nbgrader": {
          "grade": false,
          "grade_id": "cell-be01e03df6f06be7",
          "locked": true,
          "schema_version": 1,
          "solution": false
        },
        "id": "H48HQRczaTYH"
      },
      "source": [
        "For the next exercise, we'll need the following functions."
      ]
    },
    {
      "cell_type": "code",
      "execution_count": null,
      "metadata": {
        "collapsed": true,
        "deletable": false,
        "editable": false,
        "nbgrader": {
          "grade": false,
          "grade_id": "cell-98ed742a9b73f69b",
          "locked": true,
          "schema_version": 1,
          "solution": false
        },
        "id": "XeNRZD0naTYH"
      },
      "outputs": [],
      "source": [
        "def heaviside_int(Y):\n",
        "    \"\"\"Evaluates the heaviside function, but returns integer values.\"\"\"\n",
        "    return heaviside(Y).astype(dtype=int)\n",
        "\n",
        "def gen_lin_discr_labels(points, theta, fun=heaviside_int):\n",
        "    \"\"\"\n",
        "    Given a set of points and the coefficients of a linear\n",
        "    discriminant, this function returns a set of labels for\n",
        "    the points with respect to this discriminant.\n",
        "    \"\"\"\n",
        "    score = lin_discr(points, theta)\n",
        "    labels = fun(score)\n",
        "    return labels\n",
        "\n",
        "def plot_lin_discr(theta, df, x=\"x_0\", y=\"x_1\", hue=\"label\",\n",
        "                   palette={0: \"orange\", 1: \"blue\"},\n",
        "                   markers=['x', 'o'], legend=True,\n",
        "                   size=5, linewidth=2):\n",
        "    lm = sns.lmplot(x=x, y=y, hue=hue, data=df, palette=palette,\n",
        "                    markers=markers, legend=legend, height=size,\n",
        "                    fit_reg=False)\n",
        "\n",
        "    x_min, x_max = df[x].min(), df[x].max()\n",
        "    y_min, y_max = df[y].min(), df[y].max()\n",
        "\n",
        "    x1_min = (-theta[2][0] - theta[0][0]*x_min) / theta[1][0]\n",
        "    x1_max = (-theta[2][0] - theta[0][0]*x_max) / theta[1][0]\n",
        "    plt.plot([x_min, x_max], [x1_min, x1_max], linewidth=linewidth)\n",
        "\n",
        "    def expand_interval(x_limits, percent=10.0):\n",
        "        x_min, x_max = x_limits[0], x_limits[1]\n",
        "        if x_min < 0:\n",
        "            x_min *= 1.0 + 1e-2*percent\n",
        "        else:\n",
        "            x_min *= 1.0 - 1e-2*percent\n",
        "        if x_max > 0:\n",
        "            x_max *= 1.0 + 1e-2*percent\n",
        "        else:\n",
        "            x_max *= 1.0 + 1e-2*percent\n",
        "        return (x_min, x_max)\n",
        "    x_view = expand_interval((x_min, x_max))\n",
        "    y_view = expand_interval((y_min, y_max))\n",
        "    lm.axes[0,0].set_xlim(x_view[0], x_view[1])\n",
        "    lm.axes[0,0].set_ylim(y_view[0], y_view[1])\n",
        "\n",
        "def mark_matches(a, b, exact=False):\n",
        "    \"\"\"\n",
        "    Given two Numpy arrays of {0, 1} labels, returns a new boolean\n",
        "    array indicating at which locations the input arrays have the\n",
        "    same label (i.e., the corresponding entry is True).\n",
        "\n",
        "    This function can consider \"inexact\" matches. That is, if `exact`\n",
        "    is False, then the function will assume the {0, 1} labels may be\n",
        "    regarded as the same up to a swapping of the labels. This feature\n",
        "    allows\n",
        "\n",
        "      a == [0, 0, 1, 1, 0, 1, 1]\n",
        "      b == [1, 1, 0, 0, 1, 0, 0]\n",
        "\n",
        "    to be regarded as equal. (That is, use `exact=False` when you\n",
        "    only care about \"relative\" labeling.)\n",
        "    \"\"\"\n",
        "    assert a.shape == b.shape, \"a.shape ({}) does not match b.shape ({})\".format(a.shape, b.shape)\n",
        "    a_int = a.astype(dtype=int)\n",
        "    b_int = b.astype(dtype=int)\n",
        "    all_axes = tuple(range(len(a.shape)))\n",
        "    assert ((a_int == 0) | (a_int == 1)).all()\n",
        "    assert ((b_int == 0) | (b_int == 1)).all()\n",
        "\n",
        "    exact_matches = (a_int == b_int)\n",
        "    if exact:\n",
        "        return exact_matches\n",
        "\n",
        "    assert exact == False\n",
        "    num_exact_matches = np.sum(exact_matches)\n",
        "    if (2*num_exact_matches) >= np.prod(a.shape):\n",
        "        return exact_matches\n",
        "    return exact_matches == False # Invert\n",
        "\n",
        "def count_matches(a, b, exact=False):\n",
        "    \"\"\"\n",
        "    Given two sets of {0, 1} labels, returns the number of mismatches.\n",
        "\n",
        "    This function can consider \"inexact\" matches. That is, if `exact`\n",
        "    is False, then the function will assume the {0, 1} labels may be\n",
        "    regarded as similar up to a swapping of the labels. This feature\n",
        "    allows\n",
        "\n",
        "      a == [0, 0, 1, 1, 0, 1, 1]\n",
        "      b == [1, 1, 0, 0, 1, 0, 0]\n",
        "\n",
        "    to be regarded as equal. (That is, use `exact=False` when you\n",
        "    only care about \"relative\" labeling.)\n",
        "    \"\"\"\n",
        "    matches = mark_matches(a, b, exact=exact)\n",
        "    return int(matches.sum())\n",
        "\n",
        "def viz_check(points, true_labels, theta):\n",
        "    \"\"\"Visualize the misclassifications of a given linear discriminant.\"\"\"\n",
        "    from pandas import DataFrame\n",
        "    labels = gen_lin_discr_labels(points, theta)\n",
        "    num_mismatches = len(true_labels) - count_matches(true_labels, labels)\n",
        "    print (\"Detected\", num_mismatches, \"mismatches out of\", len(true_labels), \"cases.\")\n",
        "    df_matches = DataFrame({'x_0': points[:, 0], 'x_1': points[:, 1]})\n",
        "    df_matches['label'] = mark_matches(labels, true_labels).astype(dtype=int)\n",
        "    mpl.rc(\"savefig\", dpi=100) # Adjust for higher-resolution figures\n",
        "    plot_lin_discr(theta, df_matches, legend=False)\n",
        "    return num_mismatches, df_matches"
      ]
    },
    {
      "cell_type": "markdown",
      "metadata": {
        "id": "vAXWgVTLaTYH"
      },
      "source": [
        "**Guessing a boundary.** To see a linear discriminant in action, suppose we guess that\n",
        "\n",
        "$$\\theta = \\left[\\begin{array}{c} -1 \\\\ 3 \\\\ 0 \\end{array}\\right]$$\n",
        "\n",
        "is the boundary. The next code cell will show us what that choice looks like. Try running it now:"
      ]
    },
    {
      "cell_type": "code",
      "execution_count": null,
      "metadata": {
        "deletable": false,
        "editable": false,
        "nbgrader": {
          "grade": false,
          "locked": true,
          "solution": false
        },
        "id": "_ZOPAcQAaTYH",
        "outputId": "ed3f27be-60d9-43fb-e520-9babb7f30b46"
      },
      "outputs": [
        {
          "name": "stdout",
          "output_type": "stream",
          "text": [
            "Detected 123 mismatches out of 375 cases.\n"
          ]
        },
        {
          "data": {
            "image/png": "[encoded data removed]",
            "text/plain": [
              "<Figure size 360x360 with 1 Axes>"
            ]
          },
          "metadata": {
            "needs_background": "light"
          },
          "output_type": "display_data"
        }
      ],
      "source": [
        "def np_col_vec(list_values):\n",
        "    \"\"\"Returns a Numpy column vector for the given list of scalar values.\"\"\"\n",
        "    return np.array([list_values]).T\n",
        "\n",
        "viz_check(points, labels, np_col_vec([-1., 3., 0.]));"
      ]
    },
    {
      "cell_type": "markdown",
      "metadata": {
        "deletable": false,
        "editable": false,
        "nbgrader": {
          "grade": false,
          "locked": true,
          "solution": false
        },
        "id": "AriNG3ucaTYH"
      },
      "source": [
        "This plot shows the original data points, along with a solid line corresponding to $\\theta$. The heaviside function is used to generate a label for each point given this $\\theta$, and all incorrect labels are shown as orange \"exes\" (`x` markers).\n",
        "\n",
        "> _Note:_ The cell also defines and uses a function, `np_col_vec(list_values)`, to convert a list of coordinate values into a Numpy column vector. You'll use this function in Exercise 2.\n",
        "\n",
        "From the plot, it looks like this guess for $\\theta$ is not so great. Let's see if you can do better!"
      ]
    },
    {
      "cell_type": "markdown",
      "metadata": {
        "deletable": false,
        "editable": false,
        "nbgrader": {
          "grade": false,
          "grade_id": "cell-a76131ff2fd35f48",
          "locked": true,
          "schema_version": 1,
          "solution": false
        },
        "id": "ZuBgSLnyaTYH"
      },
      "source": [
        "**Exercise 2** (2 points). In the code cell below, try to find a better $\\theta$! You can do that by randomly guessing coordinates for $\\theta$ by hand until you find a good one. (If you are a bit more clever, you might eyeball a line and use that to make an informed guess.)\n",
        "\n",
        "Store your $\\theta$ in a variable named `my_theta`, which should be a Numpy _column vector_. You can use `np_col_vec()`, e.g.,\n",
        "\n",
        "```python\n",
        "my_theta = np_col_vec([-1., 3., 0.])\n",
        "```\n",
        "\n",
        "The test cell will generate a plot like the one above showing how well you did, and checking that you committed at most 10 mismatches.\n",
        "\n",
        "> Hint: We found a set of coefficients that commits just 5 errors for the 375 input points."
      ]
    },
    {
      "cell_type": "code",
      "execution_count": null,
      "metadata": {
        "collapsed": true,
        "nbgrader": {
          "grade": false,
          "grade_id": "my_theta",
          "locked": false,
          "schema_version": 1,
          "solution": true
        },
        "id": "qg7KGPVLaTYH"
      },
      "outputs": [],
      "source": [
        "# Redefine the coordinates of `my_theta` to reduce the number of mismatches:\n",
        "my_theta = np_col_vec([42, 4., 7]) # 123 mismatches\n",
        "\n"
      ]
    },
    {
      "cell_type": "code",
      "execution_count": null,
      "metadata": {
        "deletable": false,
        "editable": false,
        "nbgrader": {
          "grade": true,
          "grade_id": "my_theta__check",
          "locked": true,
          "points": 2,
          "schema_version": 1,
          "solution": false
        },
        "id": "KL9cDNLQaTYH",
        "outputId": "63c7f98b-d85f-4253-fb75-ea3ec3389622"
      },
      "outputs": [
        {
          "name": "stdout",
          "output_type": "stream",
          "text": [
            "Detected 7 mismatches out of 375 cases.\n"
          ]
        },
        {
          "data": {
            "image/png": "[encoded data removed]",
            "text/plain": [
              "<Figure size 360x360 with 1 Axes>"
            ]
          },
          "metadata": {
            "needs_background": "light"
          },
          "output_type": "display_data"
        }
      ],
      "source": [
        "# Here are the labels generated by your discriminant:\n",
        "num_mismatches, _ = viz_check(points, labels, my_theta)\n",
        "assert num_mismatches <= 10"
      ]
    },
    {
      "cell_type": "markdown",
      "metadata": {
        "collapsed": true,
        "deletable": false,
        "editable": false,
        "nbgrader": {
          "grade": false,
          "grade_id": "cell-79c193391bfa60e0",
          "locked": true,
          "schema_version": 1,
          "solution": false
        },
        "id": "PSS9S3X_aTYN"
      },
      "source": [
        "**How the heaviside divides the space.** The heaviside function, $H(\\theta^T x)$, enforces a sharp boundary between classes around the $\\theta^T x=0$ line. The following code produces a [contour plot](https://matplotlib.org/api/_as_gen/matplotlib.axes.Axes.contourf.html) to show this effect: there will be a sharp dividing line between 0 and 1 values, with one set of values shown as a solid dark area and the remaining as a solid light-colored area."
      ]
    },
    {
      "cell_type": "code",
      "execution_count": null,
      "metadata": {
        "deletable": false,
        "editable": false,
        "nbgrader": {
          "grade": false,
          "grade_id": "cell-c249a5ebe750c791",
          "locked": true,
          "schema_version": 1,
          "solution": false
        },
        "id": "RHXAYK65aTYN",
        "outputId": "3fba62b3-fbd5-4c68-da37-92481b9bc01e"
      },
      "outputs": [
        {
          "data": {
            "text/plain": [
              "<matplotlib.contour.QuadContourSet at 0x7f5af54da1c0>"
            ]
          },
          "execution_count": 18,
          "metadata": {},
          "output_type": "execute_result"
        },
        {
          "data": {
            "image/png": "[encoded data removed]",
            "text/plain": [
              "<Figure size 432x288 with 1 Axes>"
            ]
          },
          "metadata": {
            "needs_background": "light"
          },
          "output_type": "display_data"
        }
      ],
      "source": [
        "x0 = np.linspace(-2., +2., 100)\n",
        "x1 = np.linspace(-2., +2., 100)\n",
        "x0_grid, x1_grid = np.meshgrid(x0, x1)\n",
        "h_grid = heaviside(my_theta[2] + my_theta[0]*x0_grid + my_theta[1]*x1_grid)\n",
        "plt.contourf(x0, x1, h_grid)"
      ]
    },
    {
      "cell_type": "markdown",
      "metadata": {
        "deletable": false,
        "editable": false,
        "nbgrader": {
          "grade": false,
          "grade_id": "cell-9e5281924908ba41",
          "locked": true,
          "schema_version": 1,
          "solution": false
        },
        "id": "rvkfFmXbaTYN"
      },
      "source": [
        "# Part 1: The logistic (or sigmoid) function as an alternative discriminant\n",
        "\n",
        "As the lobsters example suggests, real data are not likely to be cleanly separable, especially when the number of features we have at our disposal is relatively small.\n",
        "\n",
        "Since the labels are 0 or 1, you could look for a way to interpret labels as _probabilities_ rather than as hard (0 or 1) labels. One such function is the _logistic function_, also referred to as the _logit_ or [_sigmoid_](https://en.wikipedia.org/wiki/Sigmoid_function) function.\n",
        "\n",
        "$$\n",
        "\\begin{array}{rcl}\n",
        "  G(y) & \\equiv & \\dfrac{1}{1 + e^{-y}}\n",
        "\\end{array}\n",
        "$$\n",
        "\n",
        "The logistic function takes any value in the domain $(-\\infty, +\\infty)$ and produces a value in the range $(0, 1)$. Thus, given a value $y$, we can interpret $G(y)$ as a conditional probability that the label is 1 given $y$, i.e., $G(y) \\equiv \\mathrm{Pr}[\\mbox{label is }1 \\,|\\, y]$."
      ]
    },
    {
      "cell_type": "markdown",
      "metadata": {
        "deletable": false,
        "editable": false,
        "nbgrader": {
          "grade": false,
          "grade_id": "cell-1560f56eb9ee1082",
          "locked": true,
          "schema_version": 1,
          "solution": false
        },
        "id": "yS-eBc6kaTYN"
      },
      "source": [
        "**Exercise 3** (2 points). Implement the logistic function. Inspect the resulting plot of $G(y)$ in 1-D and then the contour plot of $G(\\theta^T{x})$. Your function should accept a Numpy matrix of values, `Y`, and apply the sigmoid elementwise."
      ]
    },
    {
      "cell_type": "code",
      "execution_count": null,
      "metadata": {
        "id": "VVN-H0-saTYN",
        "outputId": "0e708c3a-f5ed-4e00-d64f-d3e30f14c282"
      },
      "outputs": [
        {
          "name": "stderr",
          "output_type": "stream",
          "text": [
            "<ipython-input-19-0346cae5aa55>:1: DeprecationWarning: `np.float` is a deprecated alias for the builtin `float`. To silence this warning, use `float` by itself. Doing this will not modify any behavior and is safe. If you specifically wanted the numpy scalar type, use `np.float64` here.\n",
            "Deprecated in NumPy 1.20; for more details and guidance: https://numpy.org/devdocs/release/1.20.0-notes.html#deprecations\n",
            "  isinstance(np.array(np.log(3)), np.float)\n"
          ]
        },
        {
          "data": {
            "text/plain": [
              "False"
            ]
          },
          "execution_count": 19,
          "metadata": {},
          "output_type": "execute_result"
        }
      ],
      "source": [
        "\n",
        "isinstance(np.array(np.log(3)), np.float)"
      ]
    },
    {
      "cell_type": "code",
      "execution_count": null,
      "metadata": {
        "nbgrader": {
          "grade": false,
          "grade_id": "logistic",
          "locked": false,
          "schema_version": 1,
          "solution": true
        },
        "id": "r9N7RclGaTYO",
        "outputId": "b9503086-564d-4506-fcc5-bbadf66ad93b"
      },
      "outputs": [
        {
          "data": {
            "text/plain": [
              "[<matplotlib.lines.Line2D at 0x7f5af55650d0>]"
            ]
          },
          "execution_count": 20,
          "metadata": {},
          "output_type": "execute_result"
        },
        {
          "data": {
            "image/png": "[encoded data removed]",
            "text/plain": [
              "<Figure size 432x288 with 1 Axes>"
            ]
          },
          "metadata": {},
          "output_type": "display_data"
        }
      ],
      "source": [
        "def G(Y):\n",
        "    return 1/(1+np.e**-Y)\n",
        "\n",
        "def logistic(Y):\n",
        "\n",
        "    res = np.vectorize(G, otypes=[float])\n",
        "\n",
        "    return res(Y)\n",
        "\n",
        "\n",
        "# Plot your function for a 1-D input.\n",
        "y_values = np.linspace(-10, 10, 100)\n",
        "\n",
        "mpl.rc(\"savefig\", dpi=120) # Adjust for higher-resolution figures\n",
        "sns.set_style(\"darkgrid\")\n",
        "y_pos = y_values[y_values > 0]\n",
        "y_rem = y_values[y_values <= 0]\n",
        "plt.plot(y_rem, heaviside (y_rem), 'b')\n",
        "plt.plot(y_pos, heaviside (y_pos), 'b')\n",
        "plt.plot(y_values, logistic (y_values), 'r--')\n",
        "#sns.regplot (y_values, heaviside (y_values), fit_reg=False)\n",
        "#sns.regplot (y_values, logistic (y_values), fit_reg=False)"
      ]
    },
    {
      "cell_type": "code",
      "execution_count": null,
      "metadata": {
        "deletable": false,
        "editable": false,
        "nbgrader": {
          "grade": true,
          "grade_id": "logistic__check",
          "locked": true,
          "points": 2,
          "schema_version": 1,
          "solution": false
        },
        "id": "8Lnbi-9YaTYO",
        "outputId": "33abdcd9-4d58-4253-9fb4-36f97fd8daf6"
      },
      "outputs": [
        {
          "name": "stdout",
          "output_type": "stream",
          "text": [
            "\n",
            "(Passed.)\n"
          ]
        },
        {
          "data": {
            "image/png": "[encoded data removed]",
            "text/plain": [
              "<Figure size 432x288 with 1 Axes>"
            ]
          },
          "metadata": {},
          "output_type": "display_data"
        }
      ],
      "source": [
        "# Test cell: `logistic__check`\n",
        "\n",
        "assert logistic(np.log(3)) == 0.75\n",
        "assert logistic(-np.log(3)) == 0.25\n",
        "\n",
        "g_grid = logistic(my_theta[2] + my_theta[0]*x0_grid + my_theta[1]*x1_grid)\n",
        "plt.contourf (x0, x1, g_grid)\n",
        "my_theta_test = np_col_vec([-1., 3., 0.])\n",
        "g_grid_test = logistic(my_theta_test[2] + my_theta_test[0]*x0_grid + my_theta_test[1]*x1_grid)\n",
        "h_grid_test = heaviside(my_theta_test[2] + my_theta_test[0]*x0_grid + my_theta_test[1]*x1_grid)\n",
        "assert ((np.round(g_grid_test) - h_grid_test).astype(int) == 0).all()\n",
        "\n",
        "print (\"\\n(Passed.)\")"
      ]
    },
    {
      "cell_type": "markdown",
      "metadata": {
        "deletable": false,
        "editable": false,
        "nbgrader": {
          "grade": false,
          "grade_id": "cell-2d0a06da857d4d26",
          "locked": true,
          "schema_version": 1,
          "solution": false
        },
        "id": "Dbvf4f-FaTYO"
      },
      "source": [
        "**Exercise 4** (_optional_; ungraded). Consider a set of 1-D points generated by a _mixture of Gaussians_. That is, suppose that there are two Gaussian distributions over the 1-dimensional variable, $x \\in (-\\infty, +\\infty)$, that have the _same_ variance ($\\sigma^2$) but _different_ means ($\\mu_0$ and $\\mu_1$). Show that the conditional probability of observing a point labeled \"1\" given $x$ may be written as,\n",
        "\n",
        "$$\\mathrm{Pr}\\left[l=1\\,|\\,x\\right]\n",
        "    \\propto \\dfrac{1}{1 + e^{-(\\theta_0 x + \\theta_1)}},$$\n",
        "\n",
        "for a suitable definition of $\\theta_0$ and $\\theta_1$.\n",
        "\n",
        "_Hints._ Since the points come from Gaussian distributions,\n",
        "\n",
        "$$\n",
        "\\begin{eqnarray}\n",
        "  \\mathrm{Pr}\\left[x \\, | \\, l\\right]\n",
        "    & \\equiv & \\dfrac{1}{\\sigma \\sqrt{2 \\pi}} \\exp \\left(-\\frac{(x - \\mu_l)^2}{2 \\sigma^2}\\right).\n",
        "\\end{eqnarray}\n",
        "$$\n",
        "\n",
        "To rewrite $\\mathrm{Pr}\\left[l\\,|\\,x\\right]$ in terms of $\\mathrm{Pr}\\left[x \\, | \\, l\\right]$, recall _Bayes's rule_ (also: [Bayes's theorem](https://en.wikipedia.org/wiki/Bayes%27_theorem)):\n",
        "\n",
        "$$\n",
        "\\begin{eqnarray}\n",
        "  \\mathrm{Pr}[l=1\\,|\\,x]\n",
        "    & = &\n",
        "      \\dfrac{\\mathrm{Pr}[x\\,|\\,l=1] \\, \\mathrm{Pr}[l=1]}\n",
        "            {\\mathrm{Pr}[x]},\n",
        "\\end{eqnarray}\n",
        "$$\n",
        "\n",
        "where the denominator can be expanded as\n",
        "\n",
        "$$\n",
        "\\begin{eqnarray}\n",
        "  \\mathrm{Pr}[x] & = & \\mathrm{Pr}[x\\,|\\,l=0] \\, \\mathrm{Pr}[l=0] + \\mathrm{Pr}[x\\,|\\,l=1] \\, \\mathrm{Pr}[l=1].\n",
        "\\end{eqnarray}\n",
        "$$\n",
        "\n",
        "You may assume the prior probabilities of observing a 0 or 1 are given by $\\mathrm{Pr}[l=0] \\equiv p_0$ and $\\mathrm{Pr}[l=1] \\equiv p_1$.\n",
        "\n",
        "> The point of this derivation is to show you that the definition of the logistic function does not just arise out of thin air. It also hints that you might expect a final algorithm for logistic regression based on using $G(y)$ as the discriminant will work well when the classes are best explained as a mixture of Gaussians."
      ]
    },
    {
      "cell_type": "markdown",
      "metadata": {
        "deletable": false,
        "editable": false,
        "nbgrader": {
          "grade": false,
          "grade_id": "cell-e09f6941ca40eebf",
          "locked": true,
          "schema_version": 1,
          "solution": false
        },
        "id": "q97t46wMaTYO"
      },
      "source": [
        "**Generalizing to $d$-dimensions.** The preceding exercise can be generalized to $d$-dimensions. Let $\\theta$ and $x$ be $(d+1)$-dimensional points. Then,\n",
        "\n",
        "$$\n",
        "\\begin{eqnarray}\n",
        "  \\mathrm{Pr}\\left[l=1\\,|\\,x\\right]\n",
        "    & \\propto & \\dfrac{1}{1 + \\exp \\left( -\\theta^T \\! x \\right)}.\n",
        "\\end{eqnarray}\n",
        "$$"
      ]
    },
    {
      "cell_type": "markdown",
      "metadata": {
        "deletable": false,
        "editable": false,
        "nbgrader": {
          "grade": false,
          "grade_id": "cell-d9b7b5c49fe0bda3",
          "locked": true,
          "schema_version": 1,
          "solution": false
        },
        "id": "FkYVa8FJaTYO"
      },
      "source": [
        "**Exercise 5** (_optional_; ungraded). Verify the following properties of the logistic function, $G(y)$.\n",
        "\n",
        "$$\n",
        "\\begin{array}{rcll}\n",
        "  G(y)\n",
        "    & = & \\frac{e^y}{e^y + 1}\n",
        "    & \\mathrm{(P1)} \\\\\n",
        "  G(-y)\n",
        "    & = & 1 - G(y)\n",
        "    & \\mathrm{(P2)} \\\\\n",
        "  \\dfrac{dG}{dy}\n",
        "    & = & G(y) G(-y)\n",
        "    & \\mathrm{(P3)} \\\\\n",
        "  {\\dfrac{d}{dy}} {\\left[ \\ln G(y) \\right]}\n",
        "    & = & G(-y)\n",
        "    & \\mathrm{(P4)} \\\\\n",
        "  {\\dfrac{d}{dy}} {\\ln \\left[ 1 - G(y) \\right]}\n",
        "    & = & -G(y)\n",
        "    & \\mathrm{(P5)}\n",
        "\\end{array}\n",
        "$$"
      ]
    },
    {
      "cell_type": "markdown",
      "metadata": {
        "deletable": false,
        "editable": false,
        "nbgrader": {
          "grade": false,
          "grade_id": "g_props",
          "locked": true,
          "schema_version": 1,
          "solution": false
        },
        "id": "bhu7iGzqaTYO"
      },
      "source": [
        "**Answers.** In all of the derivations below, we use the fact that $G(y) > 0$.\n",
        "\n",
        "_(P1)_. Multiply the numerator and denominator by $e^y$.\n",
        "\n",
        "_(P2)_. Start with the right-hand side, $1 - G(y)$, apply some algebra, and then apply (P1).\n",
        "\n",
        "$$\n",
        "  1 - G(y)\n",
        "  = \\dfrac{e^y + 1}\n",
        "          {e^y + 1}\n",
        "    - \\dfrac{e^y}\n",
        "            {e^y + 1}\n",
        "  = \\dfrac{1}{e^y + 1} \\cdot \\dfrac{e^{-y}}{e^{-y}}\n",
        "  = \\dfrac{e^{-y}}{e^{-y} + 1}\n",
        "  = G(-y).\n",
        "$$\n",
        "\n",
        "_(P3)_. By direct calculation and application of (P1):\n",
        "\n",
        "$$\n",
        "  \\dfrac{dG}{dy}\n",
        "  = \\dfrac{d}{dy}\\left( 1 + e^{-y} \\right)^{-1}\n",
        "  = - \\left( 1 + e^{-y} \\right)^{-2} \\cdot (-e^{-y})\n",
        "  = \\underbrace{\\dfrac{1}{1 + e^{-y}}}_{= G(y)} \\cdot \\underbrace{\\dfrac{e^{-y}}{1 + e^{-y}}}_{= G(-y)}\n",
        "  = G(y) \\cdot G(-y).\n",
        "$$\n",
        "\n",
        "_(P4)_. By the chain rule and application of (P3):\n",
        "\n",
        "$$\n",
        "  \\dfrac{d}{dy} \\ln G(y)\n",
        "  = \\left(\\dfrac{d}{dG} \\ln G\\right) \\dfrac{dG}{dy}\n",
        "  = \\dfrac{1}{G(y)} \\cdot G(y) G(-y)\n",
        "  = G(-y).\n",
        "$$\n",
        "\n",
        "_(P5)_. By combining (P2), variable substitution and the chain rule, and (P4),\n",
        "\n",
        "$$\n",
        "  \\dfrac{d}{dy} \\ln \\left[ 1 - G(y) \\right]\n",
        "  = \\dfrac{d}{dy} \\ln G(-y)\n",
        "  = \\underbrace{ \\left[ \\dfrac{d}{dz} \\ln G(z) \\right] \\cdot \\dfrac{dz}{dy} }_{ \\mbox{Let } z \\equiv -y}\n",
        "  = G(-z) \\cdot (-1)\n",
        "  = -G(y).\n",
        "$$"
      ]
    },
    {
      "cell_type": "markdown",
      "metadata": {
        "deletable": false,
        "editable": false,
        "nbgrader": {
          "grade": false,
          "grade_id": "cell-094c22dcbd2bd300",
          "locked": true,
          "schema_version": 1,
          "solution": false
        },
        "id": "0Rfm1g37aTYO"
      },
      "source": [
        "## Part 2: Determining the discriminant via maximum likelihood estimation\n",
        "\n",
        "Previously, you determined $\\theta$ for our synthetic dataset by hand. Can you compute a good $\\theta$ automatically? One of the standard techniques in statistics is to perform a _maximum likelihood estimation_ (MLE) of a model's parameters, $\\theta$. Indeed, you may have seen or used MLE to derive the normal equations for linear regression in a more \"statistically principled\" way than what we did in Notebook 12."
      ]
    },
    {
      "cell_type": "markdown",
      "metadata": {
        "deletable": false,
        "editable": false,
        "nbgrader": {
          "grade": false,
          "grade_id": "cell-8a977bf3b62c2142",
          "locked": true,
          "schema_version": 1,
          "solution": false
        },
        "id": "g3llREpUaTYO"
      },
      "source": [
        "**\"Likelihood\" as an objective function.** MLE derives from the following idea. Consider the joint probability of observing all of the labels, given the points and the parameters, $\\theta$:\n",
        "\n",
        "$$\n",
        "  \\mathrm{Pr}[y\\,|\\,X, \\theta].\n",
        "$$\n",
        "\n",
        "Suppose these observations are independent and identically distributed (i.i.d.). Then the joint probability can be factored as the product of individual probabilities,\n",
        "\n",
        "$$\n",
        "\\begin{eqnarray}\n",
        "  \\mathrm{Pr}[y\\, | \\,X, \\theta] = \\mathrm{Pr}[y_0, \\ldots, y_{m-1} \\,|\\, \\hat{x}_0, \\ldots, \\hat{x}_{m-1}, \\theta]\n",
        "  & = & \\mathrm{Pr}[y_0 \\,|\\, \\hat{x}_0, \\theta] \\cdots \\mathrm{Pr}[y_{m-1} \\,|\\, \\hat{x}_{m-1}, \\theta] \\\\\n",
        "  & = & \\displaystyle \\prod_{i=0}^{m-1} \\mathrm{Pr}[y_i \\,|\\, \\hat{x}_i, \\theta].\n",
        "\\end{eqnarray}\n",
        "$$\n",
        "\n",
        "The _maximum likelihood principle_ says that you should choose $\\theta$ to maximize the chances (or \"likelihood\") of seeing these particular observations. Thus, $\\mathrm{Pr}[y\\, | \\,X, \\theta]$ is now an objective function to maximize.\n",
        "\n",
        "For both mathematical and numerical reasons, we will use the _logarithm_ of the likelihood, or _log-likelihood_, as the objective function instead. Let's define it as\n",
        "\n",
        "$$\n",
        "\\begin{eqnarray}\n",
        "  \\mathcal{L}(\\theta; y, X)\n",
        "    & \\equiv &\n",
        "      \\log \\left\\{ \\displaystyle \\prod_{i=0}^{m-1} \\mathrm{Pr}[y_i \\,|\\, \\hat{x}_i, \\theta] \\right\\} \\\\\n",
        "    & = &\n",
        "      \\displaystyle \\sum_{i=0}^{m-1} \\log \\mathrm{Pr}[y_i \\,|\\, \\hat{x}_i, \\theta].\n",
        "\\end{eqnarray}\n",
        "$$\n",
        "\n",
        "> _Note._ We are using the symbol $\\log$, which could be taken in any convenient base, such as the natural logarithm ($\\ln y$) or the information theoretic base-two logarithm ($\\log_2 y$).\n",
        ">\n",
        "> _Follow-up question._ Above, we wrote that we would want to log-transform the objective function for \"mathematical and numerical reasons.\" What is the mathematical reason? What is the numerical reason?\n",
        "\n",
        "The MLE fitting procedure then consists of two steps:\n",
        "\n",
        "* For the problem at hand, decide on a model of $\\mathrm{Pr}[y_i \\,|\\, \\hat{x}_i, \\theta]$.\n",
        "* Run any optimization procedure to find the $\\theta$ that maximizes $\\mathcal{L}(\\theta; y, X)$."
      ]
    },
    {
      "cell_type": "markdown",
      "metadata": {
        "deletable": false,
        "editable": false,
        "nbgrader": {
          "grade": false,
          "grade_id": "cell-ab3544c45593f9dd",
          "locked": true,
          "schema_version": 1,
          "solution": false
        },
        "id": "tdSOduHFaTYO"
      },
      "source": [
        "# Part 3: MLE for logistic regression\n",
        "\n",
        "Let's say you have decided that the logistic function, $G(\\hat{x}_i^T \\theta) = G(\\theta^T \\hat{x}_i)$, is a good model of the probability of producing a label $y_i$ given the observation $\\hat{x}_i^T$. Under the i.i.d. assumption, you can interpret the label $y_i$ as the result of flipping a coin, or a [Bernoulli trial](https://en.wikipedia.org/wiki/Bernoulli_trial), where the probability of success ($y_i=1$) is defined as $g_i = g_i(\\theta) \\equiv G(\\hat{x}_i^T \\theta)$. Thus,\n",
        "\n",
        "$$\n",
        "\\begin{eqnarray}\n",
        "  \\mathrm{Pr}[y_i \\,|\\, \\hat{x}_i, \\theta]\n",
        "    & \\equiv & g_i^{y_i} \\cdot \\left(1 - g_i\\right)^{1 - y_i}.\n",
        "\\end{eqnarray}\n",
        "$$"
      ]
    },
    {
      "cell_type": "markdown",
      "metadata": {
        "deletable": false,
        "editable": false,
        "nbgrader": {
          "grade": false,
          "grade_id": "cell-a33d8e67116a2150",
          "locked": true,
          "schema_version": 1,
          "solution": false
        },
        "id": "in9dBg8kaTYP"
      },
      "source": [
        "The log-likelihood in turn becomes,\n",
        "\n",
        "$$\n",
        "\\begin{eqnarray}\n",
        "  \\mathcal{L}(\\theta; y, X)\n",
        "    & = & \\displaystyle\n",
        "      \\sum_{i=0}^{m-1} y_i \\ln g_i + (1-y_i) \\ln (1-g_i) \\\\\n",
        "    & = & \\displaystyle\n",
        "      \\sum_{i=0}^{m-1} y_i \\ln \\dfrac{g_i}{1-g_i} + \\ln (1-g_i) \\\\\n",
        "    & = & \\displaystyle\n",
        "      \\sum_{i=0}^{m-1} y_i \\theta^T \\hat{x}_i + \\ln (1-g_i).\n",
        "\\end{eqnarray}\n",
        "$$"
      ]
    },
    {
      "cell_type": "markdown",
      "metadata": {
        "deletable": false,
        "editable": false,
        "nbgrader": {
          "grade": false,
          "grade_id": "cell-9f279e7705721a77",
          "locked": true,
          "schema_version": 1,
          "solution": false
        },
        "id": "tmROdiBpaTYP"
      },
      "source": [
        "You can write the log-likelihood more compactly in the language of linear algebra.\n",
        "\n",
        "**Convention 1.** Let $u \\equiv (1, \\ldots, 1)^T$ be a column vector of all ones, with its length inferred from context. Let $A = \\left(\\begin{array}{cccc} a_0 & a_1 & \\cdots & a_{n-1} \\end{array}\\right)$ be any matrix, where $\\{a_i\\}$ denote its $n$ columns. Then, the sum of the columns is a matrix-vector product between $A$ and $u$:\n",
        "\n",
        "$$\\sum_{i=0}^{n-1} a_i\n",
        "  = \\left(a_0\\ a_1\\ \\cdots\\ a_{n-1}\\right)\n",
        "      \\cdot \\left(\\begin{array}{c}\n",
        "              1 \\\\\n",
        "              1 \\\\\n",
        "              \\vdots \\\\\n",
        "              1\n",
        "            \\end{array}\\right)\n",
        "  = A u.\n",
        "$$\n",
        "\n",
        "**Convention 2.** Let $A = \\left(a_{ij}\\right)$ be any matrix and let $f(z)$ be any function that we have defined by default to accept a scalar argument $z$ and produce a scalar result. For instance, $f(z) = \\ln z$ or $f(z) = G(z)$. Then, assume that $B = f(A)$ applies $f(\\cdot)$ to $A$ **elementwise**: that is, each $b_{ij} = f(a_{ij})$.\n",
        "\n",
        "With these notational conventions, convince yourself that these are two different ways to write the log-likelihood for logistic regression.\n",
        "\n",
        "$$\n",
        "\\begin{array}{rrcl}\n",
        "  (\\mathrm{V1}) & \\mathcal{L}(\\theta; y, X) & = & y^T \\ln G(X \\theta) + (u-y)^T \\ln [u - G(X \\theta)] \\\\\n",
        "  (\\mathrm{V2}) & \\mathcal{L}(\\theta; y, X) & = & y^T X \\theta + u^T \\ln G(-X \\theta)\n",
        "\\end{array}\n",
        "$$"
      ]
    },
    {
      "cell_type": "markdown",
      "metadata": {
        "deletable": false,
        "editable": false,
        "nbgrader": {
          "grade": false,
          "grade_id": "cell-8b00515ffcc60cd9",
          "locked": true,
          "schema_version": 1,
          "solution": false
        },
        "id": "jPf1jUI5aTYP"
      },
      "source": [
        "**Exercise 6** (2 points). Implement the log-likelihood function in Python by defining a function with the following signature:\n",
        "\n",
        "```python\n",
        "  def log_likelihood (theta, y, X):\n",
        "    ...\n",
        "```\n",
        "\n",
        "> To compute the elementwise logarithm of a matrix or vector, use Numpy's [`log`](https://docs.scipy.org/doc/numpy/reference/generated/numpy.log.html) function."
      ]
    },
    {
      "cell_type": "code",
      "execution_count": null,
      "metadata": {
        "collapsed": true,
        "nbgrader": {
          "grade": false,
          "grade_id": "log_likelihood",
          "locked": false,
          "schema_version": 1,
          "solution": true
        },
        "id": "5QHnzYUnaTYP"
      },
      "outputs": [],
      "source": [
        "def log_likelihood(theta, y, X):\n",
        "    left = y.T.dot(X.dot(theta)) # good\n",
        "    u = np.ones(len(y))\n",
        "    right = u.T.dot(np.log(G(-X.dot(theta))))\n",
        "    total = left + right\n",
        "    print('total is ', total)\n",
        "    print(len(total))\n",
        "    return total\n",
        "\n",
        "\n"
      ]
    },
    {
      "cell_type": "code",
      "execution_count": null,
      "metadata": {
        "id": "Wd1c8pN8aTYP",
        "outputId": "d6546f90-eac4-44a8-ddda-ca8ca29b5a32"
      },
      "outputs": [
        {
          "data": {
            "text/plain": [
              "array([1., 1., 1., 1., 1., 1., 1.])"
            ]
          },
          "execution_count": 23,
          "metadata": {},
          "output_type": "execute_result"
        }
      ],
      "source": [
        "np.ones(7)"
      ]
    },
    {
      "cell_type": "code",
      "execution_count": null,
      "metadata": {
        "deletable": false,
        "editable": false,
        "nbgrader": {
          "grade": true,
          "grade_id": "log_likelihood__check",
          "locked": true,
          "points": 2,
          "schema_version": 1,
          "solution": false
        },
        "id": "v1HnOcSDaTYP",
        "outputId": "866626f3-353e-43c2-9976-f395ace5cbfe"
      },
      "outputs": [
        {
          "name": "stdout",
          "output_type": "stream",
          "text": [
            "total is  [[-794.01645783]]\n",
            "1\n"
          ]
        },
        {
          "data": {
            "text/latex": [
              "$\\displaystyle \\left\\|\\dfrac{\\mathcal{L}_{\\tiny \\mbox{yours}} - \\mathcal{L}_{\\tiny \\mbox{solution}}}{\\mathcal{L}_{\\tiny \\mbox{solution}}}\\right\\|_\\infty \\approx 1.11022e-16$"
            ],
            "text/plain": [
              "<IPython.core.display.Math object>"
            ]
          },
          "metadata": {},
          "output_type": "display_data"
        },
        {
          "name": "stdout",
          "output_type": "stream",
          "text": [
            "\n",
            "(Passed.)\n"
          ]
        }
      ],
      "source": [
        "# Test cell: `log_likelihood__check`\n",
        "\n",
        "if False:\n",
        "    d_soln = 10\n",
        "    m_soln = 1000\n",
        "    theta_soln = np.random.random ((d_soln+1, 1)) * 2.0 - 1.0\n",
        "    y_soln = np.random.randint (low=0, high=2, size=(m_soln, 1))\n",
        "    X_soln = np.random.random ((m_soln, d_soln+1)) * 2.0 - 1.0\n",
        "    X_soln[:, 0] = 1.0\n",
        "    L_soln = log_likelihood (theta_soln, y_soln, X_soln)\n",
        "    np.savez_compressed('log_likelihood_soln',\n",
        "                        d_soln, m_soln, theta_soln, y_soln, X_soln, L_soln)\n",
        "\n",
        "npzfile_soln = np.load('{}log_likelihood_soln.npz'.format(LOCAL_BASE))\n",
        "d_soln = npzfile_soln['arr_0']\n",
        "m_soln = npzfile_soln['arr_1']\n",
        "theta_soln = npzfile_soln['arr_2']\n",
        "y_soln = npzfile_soln['arr_3']\n",
        "X_soln = npzfile_soln['arr_4']\n",
        "L_soln = npzfile_soln['arr_5']\n",
        "\n",
        "L_you = log_likelihood(theta_soln, y_soln, X_soln)\n",
        "your_err = np.max(np.abs(L_you/L_soln - 1.0))\n",
        "display(Math(r'\\left\\|\\dfrac{\\mathcal{L}_{\\tiny \\mbox{yours}} - \\mathcal{L}_{\\tiny \\mbox{solution}}}{\\mathcal{L}_{\\tiny \\mbox{solution}}}\\right\\|_\\infty \\approx %g' % your_err))\n",
        "assert your_err <= 1e-12\n",
        "\n",
        "print (\"\\n(Passed.)\")"
      ]
    },
    {
      "cell_type": "markdown",
      "metadata": {
        "deletable": false,
        "editable": false,
        "nbgrader": {
          "grade": false,
          "grade_id": "cell-041c549288c30ba4",
          "locked": true,
          "schema_version": 1,
          "solution": false
        },
        "id": "6Q-Lu0IuaTYP"
      },
      "source": [
        "# Part 4: Computing the MLE solution via gradient ascent: theory\n",
        "\n",
        "To optimize the log-likelihood with respect to the parameters, $\\theta$, you want to \"set the derivative to zero\" and solve for $\\theta$.\n",
        "\n",
        "For example, recall that in the case of linear regression via least squares minimization, carrying out this process produced an _analytic_ solution for the parameters, which was to solve the normal equations.\n",
        "\n",
        "Unfortunately, for logistic regression---or for most log-likelihoods you are likely to ever write down---you _cannot_ usually derive an analytic solution. Therefore, you will need to resort to numerical optimization procedures."
      ]
    },
    {
      "cell_type": "markdown",
      "metadata": {
        "deletable": false,
        "editable": false,
        "nbgrader": {
          "grade": false,
          "grade_id": "cell-637576fcada09d2e",
          "locked": true,
          "schema_version": 1,
          "solution": false
        },
        "id": "WRUHzH6-aTYP"
      },
      "source": [
        "**Gradient ascent, in 1-D.** A simple numerical algorithm to maximize a function is _gradient ascent_ (or _steepest ascent_). If instead you are minimizing the function, then the equivalent procedure is gradient (or steepest) _descent_. Here is the basic idea in 1-D.\n",
        "\n",
        "Suppose we wish to find the maximum of a scalar function $f(x)$ in one dimension. At the maximum, $\\dfrac{df(x)}{dx} = 0$.\n",
        "\n",
        "Suppose instead that $\\dfrac{df}{dx} \\neq 0$ and consider the value of $f$ at a nearby point, $x + s$, as given approximately by a truncated Taylor series:\n",
        "\n",
        "$$\n",
        "\\begin{eqnarray}\n",
        "  f(x + s)\n",
        "    & = &\n",
        "      f(x) + s \\dfrac{df(x)}{dx} + \\mathcal{O}(s^2).\n",
        "\\end{eqnarray}\n",
        "$$\n",
        "\n",
        "To make progress toward maximizing $f(x)$, you'd like to choose $s$ so that $f(x+s) > f(x)$. One way is to choose $s=\\alpha \\cdot \\mathrm{sign} \\left(\\dfrac{df}{dx}\\right)$, where $0 < \\alpha \\ll 1$ is \"small:\"\n",
        "\n",
        "$$\n",
        "\\begin{eqnarray}\n",
        "  f \\left(x + \\alpha \\cdot \\mathrm{sign} \\left(\\dfrac{df}{dx}\\right) \\right)\n",
        "    & \\approx &\n",
        "      f(x) + \\alpha \\left|\\dfrac{df}{dx}\\right| + \\mathcal{O}(\\alpha^2).\n",
        "\\end{eqnarray}\n",
        "$$\n",
        "\n",
        "If $\\alpha$ is small enough, then you can neglect the $\\mathcal{O}(\\alpha^2)$ term and $f(x + s)$ will be larger than $f(x)$, thus making progress toward finding a maximum.\n",
        "\n",
        "This scheme is the basic idea: starting from some initial guess $x$, refine the guess by taking a small step $s$ _in the direction_ of the derivative, i.e., $\\mathrm{sign} \\left(\\dfrac{df}{dx}\\right)$."
      ]
    },
    {
      "cell_type": "markdown",
      "metadata": {
        "deletable": false,
        "editable": false,
        "nbgrader": {
          "grade": false,
          "grade_id": "cell-c975de263048070b",
          "locked": true,
          "schema_version": 1,
          "solution": false
        },
        "id": "JXBUSneXaTYP"
      },
      "source": [
        "**Gradient ascent in higher dimensions.** Now suppose $x$ is a vector rather than a scalar. Now consider a nearby point, $x + s$, where $s$ is a _vector_. Then $f(x + s)$ becomes\n",
        "\n",
        "$$\n",
        "\\begin{eqnarray}\n",
        "  f(x + s) = f(x) + s^T \\nabla_x f(x) + \\mathcal{O}(\\|s\\|^2),\n",
        "\\end{eqnarray}\n",
        "$$\n",
        "\n",
        "where $\\nabla_x f(x)$ is the gradient of $f$ with respect to $x$. As in the 1-D case, you want a step $s$ such that $f(x + s) > f(x)$. To make as much progress as possible, let's choose $s$ to be parallel to $\\nabla_x\\,f(x)$, that is, proportional to the gradient:\n",
        "\n",
        "$$\n",
        "\\begin{eqnarray}\n",
        "  s \\equiv \\alpha \\dfrac{\\nabla_x\\,f(x)}{\\|\\nabla_x\\,f(x)\\|}.\n",
        "\\end{eqnarray}\n",
        "$$\n",
        "\n",
        "Again, $\\alpha$ is a fudge (or \"gentle nudge?\") factor. You need to choose it to be small enough that the high-order terms of the Taylor approximation become negligible, yet large enough that you can make reasonable progress."
      ]
    },
    {
      "cell_type": "markdown",
      "metadata": {
        "deletable": false,
        "editable": false,
        "nbgrader": {
          "grade": false,
          "grade_id": "cell-30f2982cf3b601e5",
          "locked": true,
          "schema_version": 1,
          "solution": false
        },
        "id": "CkaC8dPSaTYP"
      },
      "source": [
        "**The gradient ascent procedure applied to MLE.** Applying gradient ascent to the problem of maximizing the log-likelihood leads to the following algorithm.\n",
        "\n",
        "* Start with some initial guess, $\\theta(0)$.\n",
        "* At each iteration $t \\geq 0$ of the procedure, let $\\theta(t)$ be the current guess.\n",
        "* Compute the direction of steepest ascent by evaluating the gradient, $\\Delta_t \\equiv \\nabla_{\\theta(t)} \\left\\{\\mathcal{L}(\\theta(t); y, X)\\right\\}$.\n",
        "* Define the step to be $s_t \\equiv \\alpha \\dfrac{\\Delta_t}{\\|\\Delta_t\\|}$, where $\\alpha$ is a suitably chosen fudge factor.\n",
        "* Take a step in the direction of the gradient, $\\theta(t+1) \\leftarrow \\theta(t) + s_t$.\n",
        "* Stop when the parameters don't change much _or_ after some maximum number of steps.\n",
        "\n",
        "This procedure should remind you of the LMS algorithm for (online) regression. As was true then, the tricky bit is how to choose $\\alpha$.\n",
        "\n",
        "> There is at least one difference between this procedure and the online regression procedure you learned earlier. Here, we are optimizing using the _full_ dataset rather than processing data points one at a time. (That is, the step iteration variable $t$ used above is not used in exactly the same way as the step iteration in LMS.)\n",
        ">\n",
        "> Another question is, how do we know this procedure will converge to the global maximum, rather than, say, a local maximum? For that you need a deeper analysis of a specific $\\mathcal{L}(\\theta; y, X)$, to show, for instance, that it is convex in $\\theta$."
      ]
    },
    {
      "cell_type": "markdown",
      "metadata": {
        "deletable": false,
        "editable": false,
        "nbgrader": {
          "grade": false,
          "grade_id": "cell-21891efe7610f21d",
          "locked": true,
          "schema_version": 1,
          "solution": false
        },
        "id": "iaITJdeiaTYQ"
      },
      "source": [
        "## Implementing logistic regression using MLE by gradient ascent\n",
        "\n",
        "Let's apply the gradient ascent procedure to the logistic regression problem, in order to determine a good $\\theta$."
      ]
    },
    {
      "cell_type": "markdown",
      "metadata": {
        "deletable": false,
        "editable": false,
        "nbgrader": {
          "grade": false,
          "grade_id": "cell-9c8ee5e91241ce18",
          "locked": true,
          "schema_version": 1,
          "solution": false
        },
        "id": "E-UFJaS_aTYQ"
      },
      "source": [
        "**Exercise 7** (_optional_; ungraded). Show the following.\n",
        "\n",
        "$$\n",
        "\\begin{eqnarray}\n",
        "  \\nabla_\\theta \\left\\{\\mathcal{L}(\\theta; y, X)\\right\\}\n",
        "    & = & X^T \\left[ y - G(X \\cdot \\theta)\\right].\n",
        "\\end{eqnarray}\n",
        "$$"
      ]
    },
    {
      "cell_type": "markdown",
      "metadata": {
        "deletable": false,
        "editable": false,
        "nbgrader": {
          "grade": false,
          "grade_id": "grad_log_likelihood_math",
          "locked": true,
          "schema_version": 1,
          "solution": false
        },
        "id": "GnaarVaTaTYQ"
      },
      "source": [
        "**Answer.** From (V2),\n",
        "\n",
        "$$\n",
        "  \\mathcal{L}(\\theta; y, X) = y^T X \\theta + u^T \\ln G(-X \\theta).\n",
        "$$\n",
        "\n",
        "Thus,\n",
        "\n",
        "$$\n",
        "  \\nabla_\\theta \\{\\mathcal{L}(\\theta; y, X)\\}\n",
        "  = \\nabla_\\theta (y^T X \\theta)\n",
        "    + \\nabla_\\theta \\left( u^T \\ln G(-X \\theta) \\right).\n",
        "$$\n",
        "\n",
        "Let's consider each term in turn.\n",
        "\n",
        "For the first term, apply the gradient identities to obtain\n",
        "\n",
        "$$\n",
        "\\begin{eqnarray}\n",
        "  \\nabla_\\theta \\, (y^T X \\theta) & = & \\nabla_\\theta \\, (\\theta^T X^T y) = X^T y.\n",
        "\\end{eqnarray}\n",
        "$$\n",
        "\n",
        "For the second term, recall the scalar interpretation of $u^T \\ln G(-X \\theta)$.\n",
        "\n",
        "$$\n",
        "\\begin{eqnarray}\n",
        "  u^T \\ln G(-X \\theta)\n",
        "  & = & \\sum_{j=0}^{m-1} \\ln G\\left(-\\hat{x}_j^T \\theta\\right).\n",
        "\\end{eqnarray}\n",
        "$$\n",
        "\n",
        "The $i$-th component of the gradient is\n",
        "\n",
        "$$\n",
        "\\begin{eqnarray}\n",
        "  \\dfrac{\\partial}{\\partial \\theta_i} \\sum_{j=0}^{m-1} \\ln G\\left(-\\hat{x}_j^T \\theta\\right)\n",
        "  & = & \\sum_{j=0}^{m-1} \\dfrac{\\partial}{\\partial \\theta_i} \\ln G\\left(-\\hat{x}_j^T \\theta\\right).\n",
        "\\end{eqnarray}\n",
        "$$\n",
        "\n",
        "Let's evaluate the summand:\n",
        "\n",
        "$$\n",
        "\\dfrac{\\partial}{\\partial \\theta_i} \\ln G\\left(-\\hat{x}_j^T \\theta\\right)\n",
        "= \\underbrace{\\left[ \\dfrac{d}{dz} \\ln G(z) \\right] \\cdot \\left[ \\dfrac{\\partial z}{\\partial \\theta_i} \\right]}_{\\mbox{Let } z \\, \\equiv \\, -\\hat{x}_j^T \\theta}\n",
        "= G(-z) \\cdot \\dfrac{\\partial}{\\partial \\theta_i} \\left(-\\hat{x}_j^T \\theta\\right)\n",
        "= - G\\left(\\hat{x}_j^T \\theta\\right) \\cdot x_{ji}.\n",
        "$$\n",
        "\n",
        "Thus, the $i$-th component of the gradient becomes\n",
        "\n",
        "$$\n",
        "  \\left[\\nabla_\\theta \\left( u^T \\ln G(-X \\theta) \\right)\\right]_i\n",
        "  = - \\sum_{j=0}^{m-1} G\\left(\\hat{x}_j^T \\theta\\right) \\cdot x_{ji}.\n",
        "$$\n",
        "\n",
        "In other words, the full gradient vector is\n",
        "\n",
        "$$\n",
        "  \\nabla_\\theta \\left( u^T \\ln G(-X \\theta) \\right)\n",
        "  = -X^T G(X \\theta).\n",
        "$$\n",
        "\n",
        "Putting the two components together,\n",
        "\n",
        "$$\n",
        "  \\nabla_\\theta \\{\\mathcal{L}(\\theta; y, X)\\}\n",
        "  = X^T y - X^T G(X \\theta)\n",
        "  = X^T \\left[ y - G(X \\theta) \\right].\n",
        "$$"
      ]
    },
    {
      "cell_type": "markdown",
      "metadata": {
        "deletable": false,
        "editable": false,
        "nbgrader": {
          "grade": false,
          "grade_id": "cell-11d92e5e1f98bcd4",
          "locked": true,
          "schema_version": 1,
          "solution": false
        },
        "id": "8aVI2KdpaTYQ"
      },
      "source": [
        "**Exercise 8** (2 points). Implement a function to compute the gradient of the log-likelihood. Your function should have the signature,\n",
        "\n",
        "```python\n",
        "  def grad_log_likelihood (theta, y, X):\n",
        "      ...\n",
        "```"
      ]
    },
    {
      "cell_type": "code",
      "execution_count": null,
      "metadata": {
        "collapsed": true,
        "nbgrader": {
          "grade": false,
          "grade_id": "grad_log_likelihood_code",
          "locked": false,
          "schema_version": 1,
          "solution": true
        },
        "id": "li48BorvaTYQ"
      },
      "outputs": [],
      "source": [
        "def grad_log_likelihood(theta, y, X):\n",
        "    \"\"\"Returns the gradient of the log-likelihood.\"\"\"\n",
        "    gradient = X.T.dot(y-G(X.dot(theta)))\n",
        "    return gradient\n"
      ]
    },
    {
      "cell_type": "code",
      "execution_count": null,
      "metadata": {
        "deletable": false,
        "editable": false,
        "nbgrader": {
          "grade": true,
          "grade_id": "grad_log_likelihood_code__check",
          "locked": true,
          "points": 2,
          "schema_version": 1,
          "solution": false
        },
        "id": "6R9x3qgaaTYQ",
        "outputId": "da3d17c8-7b5c-440b-f7c9-accbebb6c2b7"
      },
      "outputs": [
        {
          "data": {
            "text/latex": [
              "$\\displaystyle \\left\\|\\dfrac{\\nabla\\, \\mathcal{L}_{\\tiny \\mbox{yours}} - \\nabla\\,\\mathcal{L}_{\\tiny \\mbox{solution}}}{\\nabla\\, \\mathcal{L}_{\\tiny \\mbox{solution}}}\\right\\|_\\infty \\approx 5.55112e-16$"
            ],
            "text/plain": [
              "<IPython.core.display.Math object>"
            ]
          },
          "metadata": {},
          "output_type": "display_data"
        },
        {
          "name": "stdout",
          "output_type": "stream",
          "text": [
            "\n",
            "(Passed.)\n"
          ]
        }
      ],
      "source": [
        "# Test cell: `grad_log_likelihood_code__check`\n",
        "\n",
        "if False:\n",
        "    d_grad_soln = 6\n",
        "    m_grad_soln = 399\n",
        "    theta_grad_soln = np.random.random((d_grad_soln+1, 1)) * 2.0 - 1.0\n",
        "    y_grad_soln = np.random.randint(low=0, high=2, size=(m_grad_soln, 1))\n",
        "    X_grad_soln = np.random.random((m_grad_soln, d_grad_soln+1)) * 2.0 - 1.0\n",
        "    X_grad_soln[:, 0] = 1.0\n",
        "    L_grad_soln = grad_log_likelihood(theta_grad_soln, y_grad_soln, X_grad_soln)\n",
        "    np.savez_compressed('grad_log_likelihood_soln',\n",
        "                        d_grad_soln, m_grad_soln, theta_grad_soln, y_grad_soln, X_grad_soln, L_grad_soln)\n",
        "\n",
        "npzfile_grad_soln = np.load ('{}grad_log_likelihood_soln.npz'.format(LOCAL_BASE))\n",
        "d_grad_soln = npzfile_grad_soln['arr_0']\n",
        "m_grad_soln = npzfile_grad_soln['arr_1']\n",
        "theta_grad_soln = npzfile_grad_soln['arr_2']\n",
        "y_grad_soln = npzfile_grad_soln['arr_3']\n",
        "X_grad_soln = npzfile_grad_soln['arr_4']\n",
        "L_grad_soln = npzfile_grad_soln['arr_5']\n",
        "\n",
        "L_grad_you = grad_log_likelihood (theta_grad_soln, y_grad_soln, X_grad_soln)\n",
        "your_grad_err = np.max (np.abs (L_grad_you/L_grad_soln - 1.0))\n",
        "display (Math (r'\\left\\|\\dfrac{\\nabla\\, \\mathcal{L}_{\\tiny \\mbox{yours}} - \\nabla\\,\\mathcal{L}_{\\tiny \\mbox{solution}}}{\\nabla\\, \\mathcal{L}_{\\tiny \\mbox{solution}}}\\right\\|_\\infty \\approx %g' % your_grad_err))\n",
        "assert your_grad_err <= 1e-12\n",
        "\n",
        "print (\"\\n(Passed.)\")"
      ]
    },
    {
      "cell_type": "markdown",
      "metadata": {
        "deletable": false,
        "editable": false,
        "nbgrader": {
          "grade": false,
          "grade_id": "cell-c750772abe501646",
          "locked": true,
          "schema_version": 1,
          "solution": false
        },
        "id": "YzAzCWymaTYQ"
      },
      "source": [
        "**Exercise 9** (4 points). Implement the gradient ascent procedure to determine $\\theta$, and try it out on the sample data.\n",
        "\n",
        "Recall the procedure (repeated from above):\n",
        "* Start with some initial guess, $\\theta(0)$.\n",
        "* At each iteration $t \\geq 0$ of the procedure, let $\\theta(t)$ be the current guess.\n",
        "* Compute the direction of steepest ascent by evaluating the gradient, $\\Delta_t \\equiv \\nabla_{\\theta(t)} \\left\\{\\mathcal{L}(\\theta(t); y, X)\\right\\}$.\n",
        "* Define the step to be $s_t \\equiv \\alpha \\dfrac{\\Delta_t}{\\|\\Delta_t\\|}$, where $\\alpha$ is a suitably chosen fudge factor.\n",
        "* Take a step in the direction of the gradient, $\\theta(t+1) \\leftarrow \\theta(t) + s_t$.\n",
        "* Stop when the parameters don't change much _or_ after some maximum number of steps.\n",
        "\n",
        "In the code skeleton below, we've set up a loop to run a fixed number, `MAX_STEP`, of gradient ascent steps. Also, when normalizing the step $\\Delta_t$, use the two-norm.\n",
        "\n",
        "> In your solution, we'd like you to store *all* guesses in the matrix `thetas`, so that you can later see how the $\\theta(t)$ values evolve. To extract a particular column `t`, use the notation, `theta[:, t:t+1]`. This notation is necessary to preserve the \"shape\" of the column as a column vector."
      ]
    },
    {
      "cell_type": "code",
      "execution_count": null,
      "metadata": {
        "collapsed": true,
        "id": "qS7b3DS0aTYQ"
      },
      "outputs": [],
      "source": [
        "from numpy import linalg as LA\n",
        "n = np.array([1,3,3])"
      ]
    },
    {
      "cell_type": "code",
      "execution_count": null,
      "metadata": {
        "nbgrader": {
          "grade": false,
          "grade_id": "logreg_mle",
          "locked": false,
          "schema_version": 1,
          "solution": true
        },
        "id": "qaCSScmKaTYQ",
        "outputId": "e58785a6-089a-45c9-cdc9-a4556264ece0"
      },
      "outputs": [
        {
          "name": "stdout",
          "output_type": "stream",
          "text": [
            "[[0. 0. 0. 0. 0. 0. 0. 0. 0. 0. 0. 0. 0. 0. 0. 0. 0. 0. 0. 0. 0. 0. 0. 0.\n",
            "  0. 0. 0. 0. 0. 0. 0. 0. 0. 0. 0. 0. 0. 0. 0. 0. 0. 0. 0. 0. 0. 0. 0. 0.\n",
            "  0. 0. 0. 0. 0. 0. 0. 0. 0. 0. 0. 0. 0. 0. 0. 0. 0. 0. 0. 0. 0. 0. 0. 0.\n",
            "  0. 0. 0. 0. 0. 0. 0. 0. 0. 0. 0. 0. 0. 0. 0. 0. 0. 0. 0. 0. 0. 0. 0. 0.\n",
            "  0. 0. 0. 0. 0. 0. 0. 0. 0. 0. 0. 0. 0. 0. 0. 0. 0. 0. 0. 0. 0. 0. 0. 0.\n",
            "  0. 0. 0. 0. 0. 0. 0. 0. 0. 0. 0. 0. 0. 0. 0. 0. 0. 0. 0. 0. 0. 0. 0. 0.\n",
            "  0. 0. 0. 0. 0. 0. 0. 0. 0. 0. 0. 0. 0. 0. 0. 0. 0. 0. 0. 0. 0. 0. 0. 0.\n",
            "  0. 0. 0. 0. 0. 0. 0. 0. 0. 0. 0. 0. 0. 0. 0. 0. 0. 0. 0. 0. 0. 0. 0. 0.\n",
            "  0. 0. 0. 0. 0. 0. 0. 0. 0. 0. 0. 0. 0. 0. 0. 0. 0. 0. 0. 0. 0. 0. 0. 0.\n",
            "  0. 0. 0. 0. 0. 0. 0. 0. 0. 0. 0. 0. 0. 0. 0. 0. 0. 0. 0. 0. 0. 0. 0. 0.\n",
            "  0. 0. 0. 0. 0. 0. 0. 0. 0. 0. 0.]\n",
            " [0. 0. 0. 0. 0. 0. 0. 0. 0. 0. 0. 0. 0. 0. 0. 0. 0. 0. 0. 0. 0. 0. 0. 0.\n",
            "  0. 0. 0. 0. 0. 0. 0. 0. 0. 0. 0. 0. 0. 0. 0. 0. 0. 0. 0. 0. 0. 0. 0. 0.\n",
            "  0. 0. 0. 0. 0. 0. 0. 0. 0. 0. 0. 0. 0. 0. 0. 0. 0. 0. 0. 0. 0. 0. 0. 0.\n",
            "  0. 0. 0. 0. 0. 0. 0. 0. 0. 0. 0. 0. 0. 0. 0. 0. 0. 0. 0. 0. 0. 0. 0. 0.\n",
            "  0. 0. 0. 0. 0. 0. 0. 0. 0. 0. 0. 0. 0. 0. 0. 0. 0. 0. 0. 0. 0. 0. 0. 0.\n",
            "  0. 0. 0. 0. 0. 0. 0. 0. 0. 0. 0. 0. 0. 0. 0. 0. 0. 0. 0. 0. 0. 0. 0. 0.\n",
            "  0. 0. 0. 0. 0. 0. 0. 0. 0. 0. 0. 0. 0. 0. 0. 0. 0. 0. 0. 0. 0. 0. 0. 0.\n",
            "  0. 0. 0. 0. 0. 0. 0. 0. 0. 0. 0. 0. 0. 0. 0. 0. 0. 0. 0. 0. 0. 0. 0. 0.\n",
            "  0. 0. 0. 0. 0. 0. 0. 0. 0. 0. 0. 0. 0. 0. 0. 0. 0. 0. 0. 0. 0. 0. 0. 0.\n",
            "  0. 0. 0. 0. 0. 0. 0. 0. 0. 0. 0. 0. 0. 0. 0. 0. 0. 0. 0. 0. 0. 0. 0. 0.\n",
            "  0. 0. 0. 0. 0. 0. 0. 0. 0. 0. 0.]\n",
            " [0. 0. 0. 0. 0. 0. 0. 0. 0. 0. 0. 0. 0. 0. 0. 0. 0. 0. 0. 0. 0. 0. 0. 0.\n",
            "  0. 0. 0. 0. 0. 0. 0. 0. 0. 0. 0. 0. 0. 0. 0. 0. 0. 0. 0. 0. 0. 0. 0. 0.\n",
            "  0. 0. 0. 0. 0. 0. 0. 0. 0. 0. 0. 0. 0. 0. 0. 0. 0. 0. 0. 0. 0. 0. 0. 0.\n",
            "  0. 0. 0. 0. 0. 0. 0. 0. 0. 0. 0. 0. 0. 0. 0. 0. 0. 0. 0. 0. 0. 0. 0. 0.\n",
            "  0. 0. 0. 0. 0. 0. 0. 0. 0. 0. 0. 0. 0. 0. 0. 0. 0. 0. 0. 0. 0. 0. 0. 0.\n",
            "  0. 0. 0. 0. 0. 0. 0. 0. 0. 0. 0. 0. 0. 0. 0. 0. 0. 0. 0. 0. 0. 0. 0. 0.\n",
            "  0. 0. 0. 0. 0. 0. 0. 0. 0. 0. 0. 0. 0. 0. 0. 0. 0. 0. 0. 0. 0. 0. 0. 0.\n",
            "  0. 0. 0. 0. 0. 0. 0. 0. 0. 0. 0. 0. 0. 0. 0. 0. 0. 0. 0. 0. 0. 0. 0. 0.\n",
            "  0. 0. 0. 0. 0. 0. 0. 0. 0. 0. 0. 0. 0. 0. 0. 0. 0. 0. 0. 0. 0. 0. 0. 0.\n",
            "  0. 0. 0. 0. 0. 0. 0. 0. 0. 0. 0. 0. 0. 0. 0. 0. 0. 0. 0. 0. 0. 0. 0. 0.\n",
            "  0. 0. 0. 0. 0. 0. 0. 0. 0. 0. 0.]]\n",
            "[[-0.71368937]\n",
            " [-0.69900752]\n",
            " [-0.04512171]]\n",
            "[[-1.61128262]\n",
            " [-1.06821174]\n",
            " [-0.28598394]]\n",
            "[[-2.58660345]\n",
            " [-1.17681514]\n",
            " [-0.47821968]]\n",
            "[[-3.582206  ]\n",
            " [-1.25688056]\n",
            " [-0.52685185]]\n",
            "[[-4.56370713]\n",
            " [-1.26313002]\n",
            " [-0.71820618]]\n",
            "[[-5.53356076]\n",
            " [-1.5043105 ]\n",
            " [-0.75307594]]\n",
            "[[-6.33415567]\n",
            " [-1.35298825]\n",
            " [-1.33285984]]\n",
            "[[-6.93035857]\n",
            " [-1.92669228]\n",
            " [-0.77124985]]\n",
            "[[-7.23722835]\n",
            " [-1.501598  ]\n",
            " [-1.62279303]]\n",
            "[[-7.75873157]\n",
            " [-2.05253296]\n",
            " [-0.9712525 ]]\n",
            "[[-7.99998867]\n",
            " [-1.6444602 ]\n",
            " [-1.8517476 ]]\n",
            "[[-8.48711994]\n",
            " [-2.16508164]\n",
            " [-1.15056543]]\n",
            "[[-8.66903195]\n",
            " [-1.77925421]\n",
            " [-2.05502395]]\n",
            "[[-9.13385467]\n",
            " [-2.2626171 ]\n",
            " [-1.31320176]]\n",
            "[[-9.26251134]\n",
            " [-1.90378339]\n",
            " [-2.23769396]]\n",
            "[[-9.71117583]\n",
            " [-2.3463305 ]\n",
            " [-1.46125837]]\n",
            "[[-9.7920865 ]\n",
            " [-2.01741703]\n",
            " [-2.40214593]]\n",
            "[[-10.22819822]\n",
            " [ -2.41811368]\n",
            " [ -1.59638619]]\n",
            "[[-10.26656582]\n",
            " [ -2.1200469 ]\n",
            " [ -2.55015981]]\n",
            "[[-10.69230789]\n",
            " [ -2.47998488]\n",
            " [ -1.71998613]]\n",
            "[[-10.69312989]\n",
            " [ -2.21193692]\n",
            " [ -2.68339135]]\n",
            "[[-11.1098449 ]\n",
            " [ -2.53380573]\n",
            " [ -1.83324485]]\n",
            "[[-11.07784695]\n",
            " [ -2.29368413]\n",
            " [ -2.80346016]]\n",
            "[[-11.48640131]\n",
            " [ -2.58113964]\n",
            " [ -1.93717345]]\n",
            "[[-11.42592018]\n",
            " [ -2.36613918]\n",
            " [ -2.91191282]]\n",
            "[[-11.82693275]\n",
            " [ -2.62321885]\n",
            " [ -2.03265236]]\n",
            "[[-11.74182995]\n",
            " [ -2.4302898 ]\n",
            " [ -3.01016752]]\n",
            "[[-12.13580284]\n",
            " [ -2.66098088]\n",
            " [ -2.12046702]]\n",
            "[[-12.02943526]\n",
            " [ -2.48714915]\n",
            " [ -3.09948105]]\n",
            "[[-12.41681898]\n",
            " [ -2.6951321 ]\n",
            " [ -2.20132909]]\n",
            "[[-12.29205772]\n",
            " [ -2.5376767 ]\n",
            " [ -3.18094249]]\n",
            "[[-12.67327797]\n",
            " [ -2.72620977]\n",
            " [ -2.27588647]]\n",
            "[[-12.53255574]\n",
            " [ -2.58273577]\n",
            " [ -3.25548459]]\n",
            "[[-12.90802112]\n",
            " [ -2.75463103]\n",
            " [ -2.34472789]]\n",
            "[[-12.75339073]\n",
            " [ -2.62307883]\n",
            " [ -3.32390277]]\n",
            "[[-13.12349263]\n",
            " [ -2.78072777]\n",
            " [ -2.40838576]]\n",
            "[[-12.95668565]\n",
            " [ -2.65934961]\n",
            " [ -3.38687581]]\n",
            "[[-13.32179598]\n",
            " [ -2.80477022]\n",
            " [ -2.46733936]]\n",
            "[[-13.14427601]\n",
            " [ -2.69209325]\n",
            " [ -3.44498477]]\n",
            "[[-13.50474509]\n",
            " [ -2.82698285]\n",
            " [ -2.52201845]]\n",
            "[[-13.31775372]\n",
            " [ -2.72176945]\n",
            " [ -3.49872944]]\n",
            "[[-13.67390907]\n",
            " [ -2.84755515]\n",
            " [ -2.57280756]]\n",
            "[[-13.47850433]\n",
            " [ -2.74876559]\n",
            " [ -3.54854196]]\n",
            "[[-13.83065037]\n",
            " [ -2.86664917]\n",
            " [ -2.62005037]]\n",
            "[[-13.62773834]\n",
            " [ -2.77340868]\n",
            " [ -3.59479799]]\n",
            "[[-13.9761569 ]\n",
            " [ -2.88440491]\n",
            " [ -2.66405402]]\n",
            "[[-13.76651758]\n",
            " [ -2.79597564]\n",
            " [ -3.63782587]]\n",
            "[[-14.11146881]\n",
            " [ -2.90094436]\n",
            " [ -2.70509321]]\n",
            "[[-13.89577717]\n",
            " [ -2.81670199]\n",
            " [ -3.67791402]]\n",
            "[[-14.23750084]\n",
            " [ -2.91637454]\n",
            " [ -2.74341399]]\n",
            "[[-14.01634391]\n",
            " [ -2.83578899]\n",
            " [ -3.71531706]]\n",
            "[[-14.35506082]\n",
            " [ -2.93078994]\n",
            " [ -2.77923711]]\n",
            "[[-14.1289517 ]\n",
            " [ -2.85340941]\n",
            " [ -3.75026076]]\n",
            "[[-14.46486514]\n",
            " [ -2.94427437]\n",
            " [ -2.81276104]]\n",
            "[[-14.23425443]\n",
            " [ -2.86971239]\n",
            " [ -3.78294618]]\n",
            "[[-14.5675516 ]\n",
            " [ -2.95690258]\n",
            " [ -2.84416459]]\n",
            "[[-14.33283679]\n",
            " [ -2.8848273 ]\n",
            " [ -3.81355312]]\n",
            "[[-14.66369019]\n",
            " [ -2.96874146]\n",
            " [ -2.87360927]]\n",
            "[[-14.4252234 ]\n",
            " [ -2.89886689]\n",
            " [ -3.84224291]]\n",
            "[[-14.75379212]\n",
            " [ -2.97985114]\n",
            " [ -2.90124124]]\n",
            "[[-14.51188656]\n",
            " [ -2.91192994]\n",
            " [ -3.86916087]]\n",
            "[[-14.83831744]\n",
            " [ -2.99028584]\n",
            " [ -2.92719313]]\n",
            "[[-14.59325276]\n",
            " [ -2.92410336]\n",
            " [ -3.89443827]]\n",
            "[[-14.91768152]\n",
            " [ -3.00009464]\n",
            " [ -2.95158553]]\n",
            "[[-14.66970828]\n",
            " [ -2.93546395]\n",
            " [ -3.91819411]]\n",
            "[[-14.99226047]\n",
            " [ -3.00932206]\n",
            " [ -2.97452835]]\n",
            "[[-14.74160396]\n",
            " [ -2.9460799 ]\n",
            " [ -3.9405365 ]]\n",
            "[[-15.06239587]\n",
            " [ -3.01800865]\n",
            " [ -2.99612197]]\n",
            "[[-14.80925926]\n",
            " [ -2.95601196]\n",
            " [ -3.96156397]]\n",
            "[[-15.12839873]\n",
            " [ -3.0261914 ]\n",
            " [ -3.01645824]]\n",
            "[[-14.87296582]\n",
            " [ -2.96531447]\n",
            " [ -3.98136654]]\n",
            "[[-15.19055298]\n",
            " [ -3.03390416]\n",
            " [ -3.03562141]]\n",
            "[[-14.93299048]\n",
            " [ -2.97403621]\n",
            " [ -4.00002661]]\n",
            "[[-15.2491184 ]\n",
            " [ -3.04117796]\n",
            " [ -3.05368887]]\n",
            "[[-14.98957794]\n",
            " [ -2.98222112]\n",
            " [ -4.0176198 ]]\n",
            "[[-15.30433323]\n",
            " [ -3.04804134]\n",
            " [ -3.07073184]]\n",
            "[[-15.04295305]\n",
            " [ -2.98990889]\n",
            " [ -4.03421563]]\n",
            "[[-15.35641639]\n",
            " [ -3.05452055]\n",
            " [ -3.086816  ]]\n",
            "[[-15.09332281]\n",
            " [ -2.9971355 ]\n",
            " [ -4.04987816]]\n",
            "[[-15.40556944]\n",
            " [ -3.06063983]\n",
            " [ -3.10200198]]\n",
            "[[-15.14087818]\n",
            " [ -3.00393365]\n",
            " [ -4.06466649]]\n",
            "[[-15.45197832]\n",
            " [ -3.06642159]\n",
            " [ -3.11634589]]\n",
            "[[-15.18579556]\n",
            " [ -3.01033312]\n",
            " [ -4.07863525]]\n",
            "[[-15.49581485]\n",
            " [ -3.07188656]\n",
            " [ -3.12989967]]\n",
            "[[-15.22823822]\n",
            " [ -3.01636114]\n",
            " [ -4.09183504]]\n",
            "[[-15.53723803]\n",
            " [ -3.07705397]\n",
            " [ -3.1427115 ]]\n",
            "[[-15.26835746]\n",
            " [ -3.02204262]\n",
            " [ -4.10431277]]\n",
            "[[-15.57639524]\n",
            " [ -3.08194167]\n",
            " [ -3.15482615]]\n",
            "[[-15.30629373]\n",
            " [ -3.02740042]\n",
            " [ -4.11611197]]\n",
            "[[-15.61342331]\n",
            " [ -3.08656627]\n",
            " [ -3.16628524]]\n",
            "[[-15.34217756]\n",
            " [ -3.03245556]\n",
            " [ -4.12727316]]\n",
            "[[-15.64844941]\n",
            " [ -3.09094322]\n",
            " [ -3.17712751]]\n",
            "[[-15.37613041]\n",
            " [ -3.03722742]\n",
            " [ -4.13783401]]\n",
            "[[-15.68159187]\n",
            " [ -3.09508694]\n",
            " [ -3.18738907]]\n",
            "[[-15.40826545]\n",
            " [ -3.04173387]\n",
            " [ -4.14782966]]\n",
            "[[-15.71296099]\n",
            " [ -3.09901087]\n",
            " [ -3.19710363]]\n",
            "[[-15.43868824]\n",
            " [ -3.04599143]\n",
            " [ -4.15729288]]\n",
            "[[-15.74265962]\n",
            " [ -3.10272758]\n",
            " [ -3.20630266]]\n",
            "[[-15.46749732]\n",
            " [ -3.05001541]\n",
            " [ -4.16625429]]\n",
            "[[-15.77078383]\n",
            " [ -3.10624882]\n",
            " [ -3.21501558]]\n",
            "[[-15.49478482]\n",
            " [ -3.05381999]\n",
            " [ -4.1747425 ]]\n",
            "[[-15.79742341]\n",
            " [ -3.10958558]\n",
            " [ -3.22326991]]\n",
            "[[-15.52063692]\n",
            " [ -3.05741837]\n",
            " [ -4.18278428]]\n",
            "[[-15.82266237]\n",
            " [ -3.11274817]\n",
            " [ -3.23109145]]\n",
            "[[-15.5451343 ]\n",
            " [ -3.06082279]\n",
            " [ -4.19040471]]\n",
            "[[-15.84657937]\n",
            " [ -3.11574625]\n",
            " [ -3.23850435]]\n",
            "[[-15.56835258]\n",
            " [ -3.06404466]\n",
            " [ -4.19762728]]\n",
            "[[-15.86924814]\n",
            " [ -3.11858889]\n",
            " [ -3.24553129]]\n",
            "[[-15.59036268]\n",
            " [ -3.06709463]\n",
            " [ -4.20447406]]\n",
            "[[-15.89073783]\n",
            " [ -3.12128459]\n",
            " [ -3.25219352]]\n",
            "[[-15.61123116]\n",
            " [ -3.06998261]\n",
            " [ -4.21096572]]\n",
            "[[-15.91111335]\n",
            " [ -3.12384136]\n",
            " [ -3.25851105]]\n",
            "[[-15.63102054]\n",
            " [ -3.0727179 ]\n",
            " [ -4.21712171]]\n",
            "[[-15.93043567]\n",
            " [ -3.12626673]\n",
            " [ -3.26450264]]\n",
            "[[-15.64978958]\n",
            " [ -3.07530915]\n",
            " [ -4.2229603 ]]\n",
            "[[-15.94876209]\n",
            " [ -3.12856776]\n",
            " [ -3.27018596]]\n",
            "[[-15.66759352]\n",
            " [ -3.07776448]\n",
            " [ -4.22849867]]\n",
            "[[-15.96614652]\n",
            " [ -3.13075113]\n",
            " [ -3.27557763]]\n",
            "[[-15.68448436]\n",
            " [ -3.08009151]\n",
            " [ -4.23375299]]\n",
            "[[-15.98263966]\n",
            " [ -3.13282311]\n",
            " [ -3.28069329]]\n",
            "[[-15.70051107]\n",
            " [ -3.08229735]\n",
            " [ -4.23873849]]\n",
            "[[-15.99828928]\n",
            " [ -3.13478961]\n",
            " [ -3.28554769]]\n",
            "[[-15.71571974]\n",
            " [ -3.08438869]\n",
            " [ -4.24346951]]\n",
            "[[-16.01314035]\n",
            " [ -3.13665622]\n",
            " [ -3.29015472]]\n",
            "[[-15.73015385]\n",
            " [ -3.08637183]\n",
            " [ -4.24795956]]\n",
            "[[-16.02723529]\n",
            " [ -3.13842819]\n",
            " [ -3.29452747]]\n",
            "[[-15.74385437]\n",
            " [ -3.08825265]\n",
            " [ -4.2522214 ]]\n",
            "[[-16.04061408]\n",
            " [ -3.14011049]\n",
            " [ -3.2986783 ]]\n",
            "[[-15.75685997]\n",
            " [ -3.09003671]\n",
            " [ -4.25626706]]\n",
            "[[-16.05331443]\n",
            " [ -3.14170781]\n",
            " [ -3.30261888]]\n",
            "[[-15.76920713]\n",
            " [ -3.09172923]\n",
            " [ -4.26010788]]\n",
            "[[-16.06537196]\n",
            " [ -3.14322458]\n",
            " [ -3.30636021]]\n",
            "[[-15.78093029]\n",
            " [ -3.09333512]\n",
            " [ -4.26375457]]\n",
            "[[-16.07682028]\n",
            " [ -3.14466498]\n",
            " [ -3.30991268]]\n",
            "[[-15.79206199]\n",
            " [ -3.09485901]\n",
            " [ -4.26721727]]\n",
            "[[-16.08769112]\n",
            " [ -3.14603297]\n",
            " [ -3.31328612]]\n",
            "[[-15.80263296]\n",
            " [ -3.09630526]\n",
            " [ -4.27050553]]\n",
            "[[-16.0980145 ]\n",
            " [ -3.14733227]\n",
            " [ -3.31648981]]\n",
            "[[-15.81267226]\n",
            " [ -3.09767798]\n",
            " [ -4.27362839]]\n",
            "[[-16.10781876]\n",
            " [ -3.14856644]\n",
            " [ -3.31953253]]\n",
            "[[-15.82220736]\n",
            " [ -3.09898105]\n",
            " [ -4.2765944 ]]\n",
            "[[-16.11713072]\n",
            " [ -3.14973882]\n",
            " [ -3.32242258]]\n",
            "[[-15.83126423]\n",
            " [ -3.10021813]\n",
            " [ -4.27941163]]\n",
            "[[-16.12597573]\n",
            " [ -3.15085257]\n",
            " [ -3.3251678 ]]\n",
            "[[-15.83986744]\n",
            " [ -3.10139268]\n",
            " [ -4.28208774]]\n",
            "[[-16.13437776]\n",
            " [ -3.15191068]\n",
            " [ -3.32777563]]\n",
            "[[-15.84804024]\n",
            " [ -3.10250795]\n",
            " [ -4.28462996]]\n",
            "[[-16.14235953]\n",
            " [ -3.15291599]\n",
            " [ -3.3302531 ]]\n",
            "[[-15.85580466]\n",
            " [ -3.10356703]\n",
            " [ -4.28704513]]\n",
            "[[-16.14994251]\n",
            " [ -3.1538712 ]\n",
            " [ -3.33260686]]\n",
            "[[-15.86318151]\n",
            " [ -3.10457284]\n",
            " [ -4.28933973]]\n",
            "[[-16.15714705]\n",
            " [ -3.15477884]\n",
            " [ -3.33484321]]\n",
            "[[-15.87019054]\n",
            " [ -3.10552812]\n",
            " [ -4.29151992]]\n",
            "[[-16.1639924 ]\n",
            " [ -3.15564133]\n",
            " [ -3.33696812]]\n",
            "[[-15.87685044]\n",
            " [ -3.10643548]\n",
            " [ -4.29359149]]\n",
            "[[-16.17049682]\n",
            " [ -3.15646095]\n",
            " [ -3.33898725]]\n",
            "[[-15.8831789 ]\n",
            " [ -3.10729738]\n",
            " [ -4.29555997]]\n",
            "[[-16.17667758]\n",
            " [ -3.15723986]\n",
            " [ -3.34090596]]\n",
            "[[-15.8891927 ]\n",
            " [ -3.10811616]\n",
            " [ -4.29743056]]\n",
            "[[-16.18255107]\n",
            " [ -3.15798012]\n",
            " [ -3.34272932]]\n",
            "[[-15.89490776]\n",
            " [ -3.10889402]\n",
            " [ -4.29920822]]\n",
            "[[-16.18813281]\n",
            " [ -3.15868367]\n",
            " [ -3.34446215]]\n",
            "[[-15.90033913]\n",
            " [ -3.10963305]\n",
            " [ -4.30089763]]\n",
            "[[-16.19343751]\n",
            " [ -3.15935237]\n",
            " [ -3.346109  ]]\n",
            "[[-15.9055011 ]\n",
            " [ -3.11033522]\n",
            " [ -4.30250324]]\n",
            "[[-16.19847914]\n",
            " [ -3.15998795]\n",
            " [ -3.34767421]]\n",
            "[[-15.91040724]\n",
            " [ -3.11100241]\n",
            " [ -4.30402927]]\n",
            "[[-16.2032709 ]\n",
            " [ -3.16059208]\n",
            " [ -3.34916188]]\n",
            "[[-15.91507037]\n",
            " [ -3.1116364 ]\n",
            " [ -4.30547971]]\n",
            "[[-16.20782536]\n",
            " [ -3.16116633]\n",
            " [ -3.35057589]]\n",
            "[[-15.9195027 ]\n",
            " [ -3.11223886]\n",
            " [ -4.30685835]]\n",
            "[[-16.21215441]\n",
            " [ -3.1617122 ]\n",
            " [ -3.35191994]]\n",
            "[[-15.92371579]\n",
            " [ -3.1128114 ]\n",
            " [ -4.3081688 ]]\n",
            "[[-16.21626934]\n",
            " [ -3.16223111]\n",
            " [ -3.35319754]]\n",
            "[[-15.9277206 ]\n",
            " [ -3.1133555 ]\n",
            " [ -4.30941445]]\n",
            "[[-16.22018087]\n",
            " [ -3.1627244 ]\n",
            " [ -3.35441199]]\n",
            "[[-15.93152753]\n",
            " [ -3.11387262]\n",
            " [ -4.31059856]]\n",
            "[[-16.22389915]\n",
            " [ -3.16319335]\n",
            " [ -3.35556647]]\n",
            "[[-15.93514648]\n",
            " [ -3.11436411]\n",
            " [ -4.3117242 ]]\n",
            "[[-16.22743383]\n",
            " [ -3.16363916]\n",
            " [ -3.35666395]]\n",
            "[[-15.93858682]\n",
            " [ -3.11483126]\n",
            " [ -4.31279427]]\n",
            "[[-16.23079406]\n",
            " [ -3.164063  ]\n",
            " [ -3.35770728]]\n",
            "[[-15.94185743]\n",
            " [ -3.11527528]\n",
            " [ -4.31381155]]\n",
            "[[-16.23398854]\n",
            " [ -3.16446595]\n",
            " [ -3.35869915]]\n",
            "[[-15.94496677]\n",
            " [ -3.11569733]\n",
            " [ -4.31477867]]\n",
            "[[-16.23702551]\n",
            " [ -3.16484906]\n",
            " [ -3.35964213]]\n",
            "[[-15.94792286]\n",
            " [ -3.11609853]\n",
            " [ -4.31569812]]\n",
            "[[-16.23991281]\n",
            " [ -3.1652133 ]\n",
            " [ -3.36053865]]\n",
            "[[-15.95073332]\n",
            " [ -3.11647989]\n",
            " [ -4.31657227]]\n",
            "[[-16.24265786]\n",
            " [ -3.16555961]\n",
            " [ -3.36139101]]\n",
            "[[-15.95340536]\n",
            " [ -3.11684243]\n",
            " [ -4.31740336]]\n",
            "[[-16.24526774]\n",
            " [ -3.16588888]\n",
            " [ -3.3622014 ]]\n",
            "[[-15.95594587]\n",
            " [ -3.11718707]\n",
            " [ -4.31819354]]\n",
            "[[-16.24774914]\n",
            " [ -3.16620195]\n",
            " [ -3.3629719 ]]\n",
            "[[-15.95836135]\n",
            " [ -3.11751471]\n",
            " [ -4.31894484]]\n",
            "[[-16.25010844]\n",
            " [ -3.16649963]\n",
            " [ -3.36370449]]\n",
            "[[-15.960658  ]\n",
            " [ -3.11782619]\n",
            " [ -4.31965917]]\n",
            "[[-16.25235167]\n",
            " [ -3.16678268]\n",
            " [ -3.36440105]]\n",
            "[[-15.96284171]\n",
            " [ -3.11812232]\n",
            " [ -4.32033837]]\n",
            "[[-16.25448459]\n",
            " [ -3.16705182]\n",
            " [ -3.36506337]]\n",
            "[[-15.96491806]\n",
            " [ -3.11840386]\n",
            " [ -4.32098418]]\n",
            "[[-16.25651266]\n",
            " [ -3.16730773]\n",
            " [ -3.36569312]]\n",
            "[[-15.96689236]\n",
            " [ -3.11867153]\n",
            " [ -4.32159824]]\n",
            "[[-16.25844105]\n",
            " [ -3.16755108]\n",
            " [ -3.36629193]]\n",
            "[[-15.96876965]\n",
            " [ -3.11892603]\n",
            " [ -4.32218214]]\n",
            "[[-16.26027469]\n",
            " [ -3.16778247]\n",
            " [ -3.36686132]]\n",
            "[[-15.97055472]\n",
            " [ -3.119168  ]\n",
            " [ -4.32273734]]\n",
            "[[-16.26201826]\n",
            " [ -3.16800251]\n",
            " [ -3.36740275]]\n",
            "[[-15.97225212]\n",
            " [ -3.11939807]\n",
            " [ -4.32326529]]\n",
            "[[-16.2636762 ]\n",
            " [ -3.16821174]\n",
            " [ -3.36791759]]\n",
            "[[-15.97386619]\n",
            " [ -3.11961683]\n",
            " [ -4.32376731]]\n",
            "[[-16.26525275]\n",
            " [ -3.16841071]\n",
            " [ -3.36840715]]\n",
            "[[-15.97540103]\n",
            " [ -3.11982482]\n",
            " [ -4.32424468]]\n",
            "[[-16.26675191]\n",
            " [ -3.16859992]\n",
            " [ -3.36887269]]\n",
            "[[-15.97686054]\n",
            " [ -3.1200226 ]\n",
            " [ -4.32469863]]\n",
            "[[-16.2681775 ]\n",
            " [ -3.16877984]\n",
            " [ -3.36931538]]\n",
            "[[-15.97824844]\n",
            " [ -3.12021066]\n",
            " [ -4.3251303 ]]\n",
            "[[-16.26953314]\n",
            " [ -3.16895094]\n",
            " [ -3.36973635]]\n",
            "[[-15.97956825]\n",
            " [ -3.12038948]\n",
            " [ -4.3255408 ]]\n",
            "[[-16.27082228]\n",
            " [ -3.16911365]\n",
            " [ -3.37013667]]\n",
            "[[-15.98082333]\n",
            " [ -3.12055952]\n",
            " [ -4.32593116]]\n",
            "[[-16.27204819]\n",
            " [ -3.16926839]\n",
            " [ -3.37051737]]\n",
            "[[-15.98201686]\n",
            " [ -3.12072121]\n",
            " [ -4.32630238]]\n",
            "[[-16.27321399]\n",
            " [ -3.16941554]\n",
            " [ -3.37087939]]\n",
            "[[-15.98315187]\n",
            " [ -3.12087496]\n",
            " [ -4.3266554 ]]\n",
            "[[-16.27432262]\n",
            " [ -3.16955547]\n",
            " [ -3.37122366]]\n",
            "[[-15.98423123]\n",
            " [ -3.12102116]\n",
            " [ -4.32699111]]\n",
            "[[-16.27537691]\n",
            " [ -3.16968855]\n",
            " [ -3.37155106]]\n",
            "[[-15.9852577 ]\n",
            " [ -3.1211602 ]\n",
            " [ -4.32731036]]\n",
            "[[-16.27637952]\n",
            " [ -3.16981511]\n",
            " [ -3.37186241]]\n",
            "[[-15.98623385]\n",
            " [ -3.12129241]\n",
            " [ -4.32761397]]\n",
            "[[-16.277333  ]\n",
            " [ -3.16993546]\n",
            " [ -3.37215851]]\n",
            "[[-15.98716217]\n",
            " [ -3.12141813]\n",
            " [ -4.3279027 ]]\n",
            "[[-16.27823976]\n",
            " [ -3.17004993]\n",
            " [ -3.37244009]]\n",
            "[[-15.98804501]\n",
            " [ -3.1215377 ]\n",
            " [ -4.32817728]]\n",
            "[[-16.27910208]\n",
            " [ -3.17015878]\n",
            " [ -3.37270789]]\n",
            "[[-15.9888846 ]\n",
            " [ -3.1216514 ]\n",
            " [ -4.32843841]]\n",
            "[[-16.27992217]\n",
            " [ -3.1702623 ]\n",
            " [ -3.37296256]]\n",
            "[[-15.98968306]\n",
            " [ -3.12175952]\n",
            " [ -4.32868675]]\n",
            "[[-16.28070208]\n",
            " [ -3.17036076]\n",
            " [ -3.37320476]]\n",
            "[[-15.99044241]\n",
            " [ -3.12186235]\n",
            " [ -4.32892293]]\n",
            "[[-16.2814438 ]\n",
            " [ -3.17045439]\n",
            " [ -3.37343509]]\n",
            "[[-15.99116458]\n",
            " [ -3.12196013]\n",
            " [ -4.32914754]]\n",
            "[[-16.28214919]\n",
            " [ -3.17054344]\n",
            " [ -3.37365415]]\n",
            "[[-15.99185138]\n",
            " [ -3.12205313]\n",
            " [ -4.32936115]]\n",
            "[[-16.28282004]\n",
            " [ -3.17062813]\n",
            " [ -3.37386248]]\n",
            "[[-15.99250456]\n",
            " [ -3.12214156]\n",
            " [ -4.3295643 ]]\n",
            "[[-16.28345804]\n",
            " [ -3.17070867]\n",
            " [ -3.37406061]]\n",
            "[[-15.99312575]\n",
            " [ -3.12222567]\n",
            " [ -4.32975751]]\n",
            "[[-16.28406481]\n",
            " [ -3.17078527]\n",
            " [ -3.37424904]]\n",
            "Your (hand) solution: [42.  4.  7.]\n",
            "Computed solution: [-16.28406481  -3.17078527  -3.37424904]\n",
            "\n",
            "=== Comparisons ===\n"
          ]
        },
        {
          "data": {
            "text/latex": [
              "$\\displaystyle \\dfrac{\\theta_0}{\\theta_2}:$"
            ],
            "text/plain": [
              "<IPython.core.display.Math object>"
            ]
          },
          "metadata": {},
          "output_type": "display_data"
        },
        {
          "name": "stdout",
          "output_type": "stream",
          "text": [
            "Your manual (hand-picked) solution is [6.] , vs. MLE (via gradient ascent), which is [4.8259819]\n"
          ]
        },
        {
          "data": {
            "text/latex": [
              "$\\displaystyle \\dfrac{\\theta_1}{\\theta_2}:$"
            ],
            "text/plain": [
              "<IPython.core.display.Math object>"
            ]
          },
          "metadata": {},
          "output_type": "display_data"
        },
        {
          "name": "stdout",
          "output_type": "stream",
          "text": [
            "Your manual (hand-picked) solution is [0.57142857] , vs. MLE (via gradient ascent), which is [0.93970102]\n",
            "\n",
            "=== The MLE solution, visualized ===\n"
          ]
        },
        {
          "data": {
            "image/png": "[encoded data removed]",
            "text/plain": [
              "<Figure size 402.375x360 with 1 Axes>"
            ]
          },
          "metadata": {},
          "output_type": "display_data"
        }
      ],
      "source": [
        "ALPHA = 0.1\n",
        "MAX_STEP = 250\n",
        "from numpy import linalg as LA\n",
        "\n",
        "# Get the data coordinate matrix, X, and labels vector, y\n",
        "X = points\n",
        "y = labels.astype(dtype=float)\n",
        "\n",
        "# Store *all* guesses, for subsequent analysis\n",
        "thetas = np.zeros((3, MAX_STEP+1))\n",
        "print(thetas)\n",
        "\n",
        "for t in range(MAX_STEP):\n",
        "    # Fill in the code to compute thetas[:, t+1:t+2]\n",
        "    theta_t = thetas[:, t:t+1]\n",
        "    gradient = grad_log_likelihood(theta_t, y, X)\n",
        "    step = gradient/LA.norm(gradient)\n",
        "    theta_t_plus_one = step + theta_t\n",
        "    print(theta_t_plus_one)\n",
        "    thetas[:, t+1:t+2] = theta_t_plus_one\n",
        "\n",
        "\n",
        "\n",
        "theta_ga = thetas[:, MAX_STEP:]\n",
        "print(\"Your (hand) solution:\", my_theta.T.flatten())\n",
        "print(\"Computed solution:\", theta_ga.T.flatten())\n",
        "\n",
        "print(\"\\n=== Comparisons ===\")\n",
        "display(Math (r'\\dfrac{\\theta_0}{\\theta_2}:'))\n",
        "print(\"Your manual (hand-picked) solution is\", my_theta[0]/my_theta[2], \\\n",
        "      \", vs. MLE (via gradient ascent), which is\", theta_ga[0]/theta_ga[2])\n",
        "display(Math (r'\\dfrac{\\theta_1}{\\theta_2}:'))\n",
        "print(\"Your manual (hand-picked) solution is\", my_theta[1]/my_theta[2], \\\n",
        "      \", vs. MLE (via gradient ascent), which is\", theta_ga[1]/theta_ga[2])\n",
        "\n",
        "print(\"\\n=== The MLE solution, visualized ===\")\n",
        "ga_labels = gen_lin_discr_labels(points, theta_ga)\n",
        "df_ga = df.copy()\n",
        "df_ga['label'] = mark_matches(ga_labels, labels).astype (dtype=int)\n",
        "plot_lin_discr(theta_ga, df_ga)"
      ]
    },
    {
      "cell_type": "code",
      "execution_count": null,
      "metadata": {
        "deletable": false,
        "editable": false,
        "nbgrader": {
          "grade": true,
          "grade_id": "logreg_mle__check",
          "locked": true,
          "points": 4,
          "schema_version": 1,
          "solution": false
        },
        "id": "16J3866FaTYQ",
        "outputId": "4a7399f2-f11a-4752-eccb-b43c783f671c"
      },
      "outputs": [
        {
          "name": "stdout",
          "output_type": "stream",
          "text": [
            "\n",
            "=== Mismatch counts ===\n",
            "Your manual (hand-picked) solution has 7 mismatches.\n",
            "The MLE method produces 8 mismatches.\n",
            "\n",
            "(Passed.)\n"
          ]
        }
      ],
      "source": [
        "print (\"\\n=== Mismatch counts ===\")\n",
        "\n",
        "my_labels = gen_lin_discr_labels (points, my_theta)\n",
        "my_mismatches = len (labels) - count_matches (labels, my_labels)\n",
        "print (\"Your manual (hand-picked) solution has\", num_mismatches, \"mismatches.\")\n",
        "\n",
        "ga_labels = gen_lin_discr_labels (points, theta_ga)\n",
        "ga_mismatches = len (labels) - count_matches (labels, ga_labels)\n",
        "print (\"The MLE method produces\", ga_mismatches, \"mismatches.\")\n",
        "\n",
        "assert ga_mismatches <= 8\n",
        "print (\"\\n(Passed.)\")"
      ]
    },
    {
      "cell_type": "markdown",
      "metadata": {
        "deletable": false,
        "editable": false,
        "nbgrader": {
          "grade": false,
          "grade_id": "cell-285313553daac698",
          "locked": true,
          "schema_version": 1,
          "solution": false
        },
        "id": "Nl5qesQVaTYQ"
      },
      "source": [
        "**The gradient ascent trajectory.** Let's take a look at how gradient ascent progresses. (You might try changing the $\\alpha$ parameter and see how it affects the results.)"
      ]
    },
    {
      "cell_type": "code",
      "execution_count": null,
      "metadata": {
        "collapsed": true,
        "deletable": false,
        "editable": false,
        "nbgrader": {
          "grade": false,
          "grade_id": "cell-9d8f9722865e273c",
          "locked": true,
          "schema_version": 1,
          "solution": false
        },
        "id": "k6WjslV7aTYR"
      },
      "outputs": [],
      "source": [
        "n_ll_grid = 100\n",
        "x1 = np.linspace(-8., 0., n_ll_grid)\n",
        "\n",
        "x2 = np.linspace(-8., 0., n_ll_grid)\n",
        "x1_grid, x2_grid = np.meshgrid(x1, x2)\n",
        "\n",
        "ll_grid = np.zeros((n_ll_grid, n_ll_grid))\n",
        "for i1 in range(n_ll_grid):\n",
        "    for i2 in range(n_ll_grid):\n",
        "        theta_i1_i2 = np.array([[thetas[0, MAX_STEP]],\n",
        "                                [x1_grid[i1][i2]],\n",
        "                                [x2_grid[i1][i2]]])\n",
        "        ll_grid[i1][i2] = log_likelihood(theta_i1_i2, y, X)\n",
        "\n",
        "# Determine a color scale\n",
        "def v(x):\n",
        "    return -np.log(np.abs(x))\n",
        "    return x\n",
        "\n",
        "def v_inv(v):\n",
        "    return -np.exp(np.abs(v))\n",
        "    return v\n",
        "\n",
        "v_min, v_max = v(ll_grid.min()), v(ll_grid.max())\n",
        "v_range = v_max - v_min\n",
        "v_breaks = v_inv(np.linspace(v_min, v_max, 20))\n",
        "\n",
        "p = plt.contourf(x1, x2, ll_grid, v_breaks, cmap=plt.cm.get_cmap(\"winter\"))\n",
        "plt.xlabel('theta_0')\n",
        "plt.ylabel('theta_1')\n",
        "plt.title('log-likelihood')\n",
        "plt.colorbar()\n",
        "plt.plot(thetas[1, :], thetas[2, :], 'k*-')"
      ]
    },
    {
      "cell_type": "markdown",
      "metadata": {
        "deletable": false,
        "editable": false,
        "nbgrader": {
          "grade": false,
          "grade_id": "cell-d6e06b8eee6066a9",
          "locked": true,
          "schema_version": 1,
          "solution": false
        },
        "id": "BEmdjgm5aTYR"
      },
      "source": [
        "# Part 5 (optional): Numerical optimization via Newton's method\n",
        "\n",
        "The fudge factor, $\\alpha$, in gradient ascent should give you pause. Can you choose the step size or direction in a better or more principled way?\n",
        "\n",
        "One idea is [_Newton's method_](https://en.wikipedia.org/wiki/Newton%27s_method_in_optimization), summarized below.\n",
        "\n",
        "> This part of the notebook has additional exercises, but they are all worth 0 points. (So if you submit something that is incomplete or fails the test cells, you won't lose any points.)"
      ]
    },
    {
      "cell_type": "markdown",
      "metadata": {
        "deletable": false,
        "editable": false,
        "nbgrader": {
          "grade": false,
          "grade_id": "cell-1291a382cc089ccb",
          "locked": true,
          "schema_version": 1,
          "solution": false
        },
        "id": "CTmJ4dWYaTYR"
      },
      "source": [
        "**The basic idea, in 1-D.** Suppose you start at a point $x$ and you have decided to take a step of size $s$. That puts you at $f(x + s)$.\n",
        "\n",
        "How do you choose $s$ to make progress toward reaching a maximum? In gradient ascent, you do so by following the gradient, which points in an \"upward\" direction.\n",
        "\n",
        "In Newton's method, you will pick $s$ in a different way: choose $s$ to maximize $f(x + s)$.\n",
        "\n",
        "That should strike you as circular; the whole problem from the beginning was to maximize $f(x)$. The trick, in this case, is not to maximize $f(x+s)$ directly; rather, let's replace it with some approximation, $q(s) \\approx f(x+s)$, and maximize $q(s)$ instead."
      ]
    },
    {
      "cell_type": "markdown",
      "metadata": {
        "deletable": false,
        "editable": false,
        "nbgrader": {
          "grade": false,
          "grade_id": "cell-5e02155dc7b9e8d8",
          "locked": true,
          "schema_version": 1,
          "solution": false
        },
        "id": "rLYO8s1iaTYR"
      },
      "source": [
        "A simple choice for $q(s)$ is a _quadratic_ function in $s$. This choice is motivated by two factors: (a) since it's quadratic, it should have some sort of extreme point (and hopefully an actual maximum), and (b) it is a higher-order approximation than a linear one, and so hopefully more accurate than a linear one as well.\n",
        "\n",
        "$$\n",
        "\\begin{array}{rcl}\n",
        "  f(x + s)\n",
        "    & \\approx & f(x) + s \\dfrac{df}{dx} + \\frac{1}{2} s^2 \\dfrac{d^2 f}{dx^2}\n",
        "    & \\equiv  & q(s).\n",
        "\\end{array}\n",
        "$$"
      ]
    },
    {
      "cell_type": "markdown",
      "metadata": {
        "deletable": false,
        "editable": false,
        "nbgrader": {
          "grade": false,
          "grade_id": "cell-5905db1304c73510",
          "locked": true,
          "schema_version": 1,
          "solution": false
        },
        "id": "g0ipGLioaTYR"
      },
      "source": [
        "To maximize $q(s)$, take its derivative and then solve for the $s_*$ such that $q(s_*) = 0$:\n",
        "\n",
        "$$\n",
        "\\begin{array}{rcl}\n",
        "  \\left.\\dfrac{dq}{ds}\\right|_{s=s_*}\n",
        "    & = & \\dfrac{df}{dx} + s_* \\dfrac{d^2 f}{dx^2} = 0 \\\\\n",
        "  \\implies s_*\n",
        "    & = & -\\dfrac{df}{dx} \\left(\\dfrac{d^2 f}{dx^2}\\right)^{-1}.\n",
        "\\end{array}\n",
        "$$\n",
        "\n",
        "That is, the optimal step $s_*$ is the negative of the first derivative of $f$ divided by its second derivative."
      ]
    },
    {
      "cell_type": "markdown",
      "metadata": {
        "deletable": false,
        "editable": false,
        "nbgrader": {
          "grade": false,
          "grade_id": "cell-faaaee9d546691b2",
          "locked": true,
          "schema_version": 1,
          "solution": false
        },
        "id": "oNx5Xt42aTYR"
      },
      "source": [
        "**Generalizing to higher dimensions.** To see how this procedure works in higher dimensions, you will need not only the gradient of $f(x)$, but also its _Hessian_, which is the moral equivalent of a second derivative."
      ]
    },
    {
      "cell_type": "markdown",
      "metadata": {
        "deletable": false,
        "editable": false,
        "nbgrader": {
          "grade": false,
          "grade_id": "cell-347083bda5bbf939",
          "locked": true,
          "schema_version": 1,
          "solution": false
        },
        "id": "WUcq6dCpaTYR"
      },
      "source": [
        "_Definition:_ **the Hessian.** Let $f(v)$ be a function that takes a _vector_ $v$ of length $n$ as input and returns a scalar. The _Hessian_ of $f(v)$ is an $n \\times n$ matrix, $H_v(f)$, whose entries are all $n^2$ possible second-order partial derivatives with respect to the components of $v$. That is, let $h_{ij}$ be the $(i, j)$ element of $H_v(f)$. Then we define\n",
        "\n",
        "$$\n",
        "\\begin{eqnarray}\n",
        "  h_{ij}\n",
        "    & \\equiv & \\dfrac{\\partial^2}{\\partial v_i \\partial v_j} f(v).\n",
        "\\end{eqnarray}\n",
        "$$"
      ]
    },
    {
      "cell_type": "markdown",
      "metadata": {
        "deletable": false,
        "editable": false,
        "nbgrader": {
          "grade": false,
          "grade_id": "cell-5a14e707e62ddeb0",
          "locked": true,
          "schema_version": 1,
          "solution": false
        },
        "id": "i9gk7SpmaTYR"
      },
      "source": [
        "Armed with a Hessian, the Newton step is defined as follows, by direct analogy to the 1-D case. First, the Taylor series approximation of $f(x + s)$ for multidimensional variables is, as it happens,\n",
        "\n",
        "$$\n",
        "\\begin{array}{rcl}\n",
        "  f(x + s)\n",
        "    & \\approx & f(x) + {s^T \\, \\nabla_x \\, f} + {\\frac{1}{2}\\,s^T H_x(f) \\, s}\n",
        "    & \\equiv  & q(s).\n",
        "\\end{array}\n",
        "$$"
      ]
    },
    {
      "cell_type": "markdown",
      "metadata": {
        "deletable": false,
        "editable": false,
        "nbgrader": {
          "grade": false,
          "grade_id": "cell-ccc44690691a89f3",
          "locked": true,
          "schema_version": 1,
          "solution": false
        },
        "id": "wOur4jaqaTYR"
      },
      "source": [
        "As in the 1-D case, we want to find an extreme point of $q(s)$. Taking its \"derivative\" (gradient), $\\nabla_s q$, and setting it to 0 yields,\n",
        "\n",
        "$$\n",
        "\\begin{array}{rcl}\n",
        "  \\nabla_s \\, q(s)\n",
        "    & = & \\nabla_x \\, f(x) + H_x(f) \\, s = 0 \\\\\n",
        "  \\implies\n",
        "  H_x(f) \\cdot s\n",
        "    & = & -\\, \\nabla_x \\, f(x).\n",
        "\\end{array}\n",
        "$$\n",
        "\n",
        "In other words, to choose the next step $s$, Newton's method suggests that you must _solve_ a system of linear equations, where the matrix is the Hessian of $f$ and the right-hand side is the negative gradient of $f$."
      ]
    },
    {
      "cell_type": "markdown",
      "metadata": {
        "deletable": false,
        "editable": false,
        "nbgrader": {
          "grade": false,
          "grade_id": "cell-9bcd0d7580c2fd26",
          "locked": true,
          "schema_version": 1,
          "solution": false
        },
        "id": "UEEgluN4aTYR"
      },
      "source": [
        "**Summary: Newton's method.** Summarizing the main ideas from above, Newton's method to maximize the scalar objective function $f(x)$ where $x$ is a vector, consists of the following steps:\n",
        "\n",
        "* Start with some initial guess $x(0)$.\n",
        "* At step $t$, compute the _search direction_ $s(t)$ by solving $H_{x(t)}(f) \\cdot s(t) = -\\, \\nabla_x \\, f(x(t))$.\n",
        "* Compute a new (and hopefully improved) guess by the update, $x(t+1) \\leftarrow x(t) + s(t)$."
      ]
    },
    {
      "cell_type": "markdown",
      "metadata": {
        "deletable": false,
        "editable": false,
        "nbgrader": {
          "grade": false,
          "grade_id": "cell-4f2fc8779174f662",
          "locked": true,
          "schema_version": 1,
          "solution": false
        },
        "id": "p1Gn_zGHaTYR"
      },
      "source": [
        "## Implementing logistic regression via a Newton-based MLE\n",
        "\n",
        "To perform MLE for the logistic regression model using Newton's method, you need both the gradient of the log-likelihood as well as the Hessian. You already know how to compute the gradient from the preceding exercises; so what about the Hessian?"
      ]
    },
    {
      "cell_type": "markdown",
      "metadata": {
        "deletable": false,
        "editable": false,
        "nbgrader": {
          "grade": false,
          "grade_id": "cell-1a0bfe46ecd0f90c",
          "locked": true,
          "schema_version": 1,
          "solution": false
        },
        "id": "Pwi-_gBeaTYR"
      },
      "source": [
        "Notationally, that calculation will be a little bit easier to write down and program with the following definition.\n",
        "\n",
        "_Definition:_ **Elementwise product**. Let $A \\equiv (a_{ij})$ and $B \\equiv (b_{ij})$ be $m \\times n$ matrices. Denote the _elementwise product_ of $A$ and $B$ by $A \\odot B$. That is, if $C = A \\odot B$, then element $c_{ij} = a_{ij} \\cdot b_{ij}$.\n",
        "\n",
        "If $A$ is $m \\times n$ but $B$ is instead just $m \\times 1$, then we will \"auto-extend\" $B$. Put differently, if $B$ has the same number of rows as $A$ but only 1 column, then we will take $C = A \\odot B$ to have elements $c_{ij} = a_{ij} \\cdot b_{i}$.\n",
        "\n",
        "In Python, you can use [`np.multiply()`](http://docs.scipy.org/doc/numpy/reference/generated/numpy.multiply.html) for elementwise multiplication of Numpy arrays."
      ]
    },
    {
      "cell_type": "code",
      "execution_count": null,
      "metadata": {
        "collapsed": true,
        "deletable": false,
        "editable": false,
        "nbgrader": {
          "grade": false,
          "grade_id": "cell-595e98fd54c852a2",
          "locked": true,
          "schema_version": 1,
          "solution": false
        },
        "id": "ZVoSRWyYaTYS"
      },
      "outputs": [],
      "source": [
        "A = np.array([[1, 2, 3],\n",
        "              [4, 5, 6]])\n",
        "B = np.array([[-1, 2, -3],\n",
        "              [4, -5, 6]])\n",
        "\n",
        "print(np.multiply(A, B)) # elementwise product\n",
        "print()\n",
        "print(np.multiply(A, B[:, 0:1])) # \"auto-extend\" version"
      ]
    },
    {
      "cell_type": "markdown",
      "metadata": {
        "deletable": false,
        "editable": false,
        "nbgrader": {
          "grade": false,
          "grade_id": "cell-986f6b8158495c0a",
          "locked": true,
          "schema_version": 1,
          "solution": false
        },
        "id": "XT4l-JgSaTYS"
      },
      "source": [
        "**Exercise 10 (optional; ungraded)**. Show that the Hessian of the log-likelihood for logistic regression is\n",
        "\n",
        "$$\n",
        "\\begin{array}{rcl}\n",
        "  H_{\\theta} \\left( \\mathcal{L}(\\theta; l, X) \\right)\n",
        "    & = & -\\left( X \\odot G(X \\theta) \\right)^T \\left( X \\odot G(-X \\theta) \\right).\n",
        "\\end{array}\n",
        "$$"
      ]
    },
    {
      "cell_type": "markdown",
      "metadata": {
        "deletable": false,
        "editable": false,
        "nbgrader": {
          "grade": false,
          "grade_id": "cell-0c2727799bbf1548",
          "locked": true,
          "schema_version": 1,
          "solution": false
        },
        "id": "nD2Q-rjOaTYS"
      },
      "source": [
        "**Exercise 11** (0 points). Implement a function to compute the Hessian of the log-likelihood. The signature of your function should be,\n",
        "\n",
        "```python\n",
        "  def hess_log_likelihood (theta, X):\n",
        "      ...\n",
        "```\n",
        "\n",
        "It should return the Hessian."
      ]
    },
    {
      "cell_type": "code",
      "execution_count": null,
      "metadata": {
        "collapsed": true,
        "nbgrader": {
          "grade": false,
          "grade_id": "hessian_log_likelihood",
          "locked": false,
          "schema_version": 1,
          "solution": true
        },
        "id": "krl4m3MRaTYS"
      },
      "outputs": [],
      "source": [
        "###\n",
        "### YOUR CODE HERE\n",
        "###\n"
      ]
    },
    {
      "cell_type": "code",
      "execution_count": null,
      "metadata": {
        "collapsed": true,
        "deletable": false,
        "editable": false,
        "nbgrader": {
          "grade": true,
          "grade_id": "hess_log_likelihood__check",
          "locked": true,
          "points": "0",
          "schema_version": 1,
          "solution": false
        },
        "id": "qyt7AllHaTYS"
      },
      "outputs": [],
      "source": [
        "# Test cell: `hess_log_likelihood__check`\n",
        "\n",
        "if False:\n",
        "    d_hess_soln = 20\n",
        "    m_hess_soln = 501\n",
        "    theta_hess_soln = np.random.random ((d_hess_soln+1, 1)) * 2.0 - 1.0\n",
        "    y_hess_soln = np.random.randint (low=0, high=2, size=(m_hess_soln, 1))\n",
        "    X_hess_soln = np.random.random ((m_hess_soln, d_hess_soln+1)) * 2.0 - 1.0\n",
        "    X_hess_soln[:, 0] = 1.0\n",
        "    L_hess_soln = hess_log_likelihood (theta_hess_soln, y_hess_soln, X_hess_soln)\n",
        "    np.savez_compressed ('hess_log_likelihood_soln',\n",
        "                         d_hess_soln, m_hess_soln, theta_hess_soln, y_hess_soln, X_hess_soln, L_hess_soln)\n",
        "\n",
        "npzfile_hess_soln = np.load ('{}hess_log_likelihood_soln.npz'.format(LOCAL_BASE))\n",
        "d_hess_soln = npzfile_hess_soln['arr_0']\n",
        "m_hess_soln = npzfile_hess_soln['arr_1']\n",
        "theta_hess_soln = npzfile_hess_soln['arr_2']\n",
        "y_hess_soln = npzfile_hess_soln['arr_3']\n",
        "X_hess_soln = npzfile_hess_soln['arr_4']\n",
        "L_hess_soln = npzfile_hess_soln['arr_5']\n",
        "\n",
        "L_hess_you = hess_log_likelihood(theta_hess_soln, X_hess_soln)\n",
        "your_hess_err = np.max(np.abs(L_hess_you/L_hess_soln - 1.0))\n",
        "display(Math(r'\\left\\|\\dfrac{H_{\\tiny \\mbox{yours}} - H_{\\tiny \\mbox{solution}}}{H_{\\tiny \\mbox{solution}}}\\right\\|_\\infty \\approx %g' % your_hess_err))\n",
        "assert your_hess_err <= 1e-12\n",
        "\n",
        "print (\"\\n(Passed.)\")"
      ]
    },
    {
      "cell_type": "markdown",
      "metadata": {
        "deletable": false,
        "editable": false,
        "nbgrader": {
          "grade": false,
          "grade_id": "cell-8d26e099ed14922a",
          "locked": true,
          "schema_version": 1,
          "solution": false
        },
        "id": "SVpYT4pJaTYS"
      },
      "source": [
        "**Exercise 12** (0 points). Finish the implementation of a Newton-based MLE procedure for the logistic regression problem."
      ]
    },
    {
      "cell_type": "code",
      "execution_count": null,
      "metadata": {
        "collapsed": true,
        "nbgrader": {
          "grade": false,
          "grade_id": "logreg_mle_newton",
          "locked": false,
          "schema_version": 1,
          "solution": true
        },
        "id": "DH5liHq2aTYS"
      },
      "outputs": [],
      "source": [
        "MAX_STEP = 10\n",
        "\n",
        "# Get the data coordinate matrix, X, and labels vector, l\n",
        "X = points\n",
        "y = labels.astype(dtype=float)\n",
        "\n",
        "# Store *all* guesses, for subsequent analysis\n",
        "thetas_newt = np.zeros((3, MAX_STEP+1))\n",
        "\n",
        "for t in range(MAX_STEP):\n",
        "    ###\n",
        "    ### YOUR CODE HERE\n",
        "    ###\n",
        "\n",
        "theta_newt = thetas_newt[:, MAX_STEP:]\n",
        "print (\"Your (hand) solution:\", my_theta.T.flatten())\n",
        "print (\"Computed solution:\", theta_newt.T.flatten())\n",
        "\n",
        "print (\"\\n=== Comparisons ===\")\n",
        "display (Math (r'\\dfrac{\\theta_0}{\\theta_2}:'))\n",
        "print (\"Your manual (hand-picked) solution is\", my_theta[0]/my_theta[2], \\\n",
        "      \", vs. MLE (via Newton's method), which is\", theta_newt[0]/theta_newt[2])\n",
        "display (Math (r'\\dfrac{\\theta_1}{\\theta_2}:'))\n",
        "print (\"Your manual (hand-picked) solution is\", my_theta[1]/my_theta[2], \\\n",
        "      \", vs. MLE (via Newton's method), which is\", theta_newt[1]/theta_newt[2])\n",
        "\n",
        "print (\"\\n=== The MLE solution, visualized ===\")\n",
        "newt_labels = gen_lin_discr_labels(points, theta_newt)\n",
        "df_newt = df.copy()\n",
        "df_newt['label'] = mark_matches(newt_labels, labels).astype (dtype=int)\n",
        "plot_lin_discr(theta_newt, df_newt)"
      ]
    },
    {
      "cell_type": "code",
      "execution_count": null,
      "metadata": {
        "collapsed": true,
        "deletable": false,
        "editable": false,
        "nbgrader": {
          "grade": true,
          "grade_id": "logreg_mle_newt__check",
          "locked": true,
          "points": 0,
          "schema_version": 1,
          "solution": false
        },
        "id": "EtrHgCMHaTYS"
      },
      "outputs": [],
      "source": [
        "# Test cell: `logreg_mle_newt__check`\n",
        "\n",
        "print (\"\\n=== Mismatch counts ===\")\n",
        "\n",
        "my_labels = gen_lin_discr_labels (points, my_theta)\n",
        "my_mismatches = len (labels) - count_matches (labels, my_labels)\n",
        "print (\"Your manual (hand-picked) solution has\", num_mismatches, \"mismatches.\")\n",
        "\n",
        "newt_labels = gen_lin_discr_labels (points, theta_newt)\n",
        "newt_mismatches = len (labels) - count_matches (labels, newt_labels)\n",
        "print (\"The MLE+Newton method produces\", newt_mismatches, \"mismatches.\")\n",
        "\n",
        "assert newt_mismatches <= ga_mismatches\n",
        "print (\"\\n(Passed.)\")"
      ]
    },
    {
      "cell_type": "markdown",
      "metadata": {
        "deletable": false,
        "editable": false,
        "nbgrader": {
          "grade": false,
          "grade_id": "cell-927d3fb6e847780f",
          "locked": true,
          "schema_version": 1,
          "solution": false
        },
        "id": "-efwErX1aTYS"
      },
      "source": [
        "The following cell creates a contour plot of the log-likelihood, as done previously in this notebook. Add code to display the trajectory taken by Newton's method."
      ]
    },
    {
      "cell_type": "code",
      "execution_count": null,
      "metadata": {
        "collapsed": true,
        "deletable": false,
        "editable": false,
        "nbgrader": {
          "grade": false,
          "grade_id": "cell-fc5d42b4438b3def",
          "locked": true,
          "schema_version": 1,
          "solution": false
        },
        "id": "Ao0o7e2saTYS"
      },
      "outputs": [],
      "source": [
        "p = plt.contourf(x1, x2, ll_grid, cmap=plt.cm.get_cmap(\"winter\"))\n",
        "plt.xlabel('theta_0')\n",
        "plt.ylabel('theta_1')\n",
        "plt.title('Trajectory taken by Newton\\'s method')\n",
        "plt.colorbar()\n",
        "plt.plot(thetas_newt[1, :], thetas_newt[2, :], 'k*-')"
      ]
    },
    {
      "cell_type": "markdown",
      "metadata": {
        "deletable": false,
        "editable": false,
        "nbgrader": {
          "grade": false,
          "grade_id": "cell-4ac2618cab7f5ab5",
          "locked": true,
          "schema_version": 1,
          "solution": false
        },
        "id": "ET480ydUaTYS"
      },
      "source": [
        "How many steps does this optimization procedure take compared to gradient ascent? What is the tradeoff?"
      ]
    },
    {
      "cell_type": "markdown",
      "metadata": {
        "collapsed": true,
        "deletable": false,
        "editable": false,
        "nbgrader": {
          "grade": false,
          "grade_id": "cell-c17d1735dac419ee",
          "locked": true,
          "schema_version": 1,
          "solution": false
        },
        "id": "ej4vMCUVaTYS"
      },
      "source": [
        "**Fin!** This notebook ends here. Don't forget to submit it!"
      ]
    }
  ],
  "metadata": {
    "celltoolbar": "Create Assignment",
    "kernelspec": {
      "display_name": "Python 3.8",
      "language": "python",
      "name": "python38"
    },
    "language_info": {
      "codemirror_mode": {
        "name": "ipython",
        "version": 3
      },
      "file_extension": ".py",
      "mimetype": "text/x-python",
      "name": "python",
      "nbconvert_exporter": "python",
      "pygments_lexer": "ipython3",
      "version": "3.8.7"
    },
    "colab": {
      "provenance": []
    }
  },
  "nbformat": 4,
  "nbformat_minor": 0
}